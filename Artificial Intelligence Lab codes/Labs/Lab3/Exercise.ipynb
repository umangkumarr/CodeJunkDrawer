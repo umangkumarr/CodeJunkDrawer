{
 "cells": [
  {
   "cell_type": "markdown",
   "source": [
    "# CSB310: Artificial Intelligence  \n",
    "\n",
    "**Instructor** : [Dr. Chandra Prakash]\n",
    "\n",
    "* For more information visit the [class website](https://cprakash86.wordpress.com/csl-303-artificial-intelligence/).\n",
    "\n",
    "\n",
    "##  LAB_ASSIGNMENT 3 : INTRODUCTION TO PYTHON PROGRAMMING\n"
   ],
   "metadata": {}
  },
  {
   "cell_type": "markdown",
   "source": [
    "    Due Date:  10-Sept-2022\n",
    "\n",
    "    Student Name: Umang Kumar\n",
    "    Roll No. : 201210051\n",
    "\n",
    "\n"
   ],
   "metadata": {}
  },
  {
   "cell_type": "markdown",
   "source": [
    "# Google CoLab Instructions\n",
    "\n",
    "The following code ensures that Google CoLab is running the correct version of TensorFlow."
   ],
   "metadata": {}
  },
  {
   "cell_type": "code",
   "execution_count": 15,
   "source": [
    "try:\n",
    "    from google.colab import drive\n",
    "    %tensorflow_version 2.x\n",
    "    COLAB = True\n",
    "    print(\"Hello World\")\n",
    "    print(\"Note: using Google CoLab\")\n",
    "except:\n",
    "    print(\"Hello World\")\n",
    "    print(\"Note: not using Google CoLab\")\n",
    "    COLAB = False"
   ],
   "outputs": [
    {
     "output_type": "stream",
     "name": "stdout",
     "text": [
      "Hello World\n",
      "Note: not using Google CoLab\n"
     ]
    }
   ],
   "metadata": {}
  },
  {
   "cell_type": "code",
   "execution_count": 16,
   "source": [
    "from datetime import datetime\n",
    "\n",
    "now = datetime.now()\n",
    "print(\"Name: Umang Kumar\\nRoll No.: 201210051\")\n",
    "print(\"Time: \", end = \"\")\n",
    "cur_time = now.strftime(\"%H:%M:%S\")\n",
    "print(cur_time)"
   ],
   "outputs": [
    {
     "output_type": "stream",
     "name": "stdout",
     "text": [
      "Name: Umang Kumar\n",
      "Roll No.: 201210051\n",
      "Time: 16:55:53\n"
     ]
    }
   ],
   "metadata": {}
  },
  {
   "cell_type": "markdown",
   "source": [
    "**Exercise 1: Create following list:**\n",
    "\n",
    "```\n",
    "data = [2,34,23,16,56,45,34,26,78,56,1,16]\n",
    "```\n",
    "\n",
    "Write a function to count number of elements in a list . Now delete the duplicate values and print\n",
    "the list in ascending order."
   ],
   "metadata": {}
  },
  {
   "cell_type": "code",
   "execution_count": 17,
   "source": [
    "data = [2,34,23,16,56,45,34,26,78,56,1,16]\n",
    "\n",
    "print(\"Size of the array: \", len(data))\n",
    "\n",
    "# method 1\n",
    "newData = list(set(data))\n",
    "print(\"Output of Method 1:\")\n",
    "print(\"Unique Element: \", newData)\n",
    "newData.sort()\n",
    "print(\"Sorted Array: \", newData)\n",
    "print()\n",
    "\n",
    "# method 2\n",
    "dic = {}\n",
    "for i in data:\n",
    "    if i not in dic.keys():\n",
    "        dic[i] = 1\n",
    "\n",
    "newData = list(dic.keys()) # removed duplicates\n",
    "print(\"Output of Method 2:\")\n",
    "print(\"Unique Element: \", newData)\n",
    "newData.sort() # sorted in ascending order\n",
    "\n",
    "print(\"Sorted Array: \", newData)"
   ],
   "outputs": [
    {
     "output_type": "stream",
     "name": "stdout",
     "text": [
      "Size of the array:  12\n",
      "Output of Method 1:\n",
      "Unique Element:  [1, 2, 34, 45, 78, 16, 23, 56, 26]\n",
      "Sorted Array:  [1, 2, 16, 23, 26, 34, 45, 56, 78]\n",
      "\n",
      "Output of Method 2:\n",
      "Unique Element:  [2, 34, 23, 16, 56, 45, 26, 78, 1]\n",
      "Sorted Array:  [1, 2, 16, 23, 26, 34, 45, 56, 78]\n"
     ]
    }
   ],
   "metadata": {}
  },
  {
   "cell_type": "markdown",
   "source": [
    "### **Exercise 2:**\n",
    "\n",
    "Take five numbers as input from the user and save into a list. Find the maximum of\n",
    "the list and sort the data in descending order."
   ],
   "metadata": {}
  },
  {
   "cell_type": "code",
   "execution_count": 18,
   "source": [
    "# input 5 numbers from user\n",
    "arr = list(map(int, input().split()))\n",
    "\n",
    "print(\"Given Array: \", arr)\n",
    "print(\"Maximum: \", max(arr))\n",
    "arr.sort(reverse=True)\n",
    "print(\"Sorted array: \",arr)\n",
    "print()\n"
   ],
   "outputs": [
    {
     "output_type": "stream",
     "name": "stdout",
     "text": [
      "Given Array:  [12, 34, 54, 67, 23]\n",
      "Maximum:  67\n",
      "Sorted array:  [67, 54, 34, 23, 12]\n",
      "\n"
     ]
    }
   ],
   "metadata": {}
  },
  {
   "cell_type": "markdown",
   "source": [
    "## **Exercise 4:**\n",
    "    (i) Generate two arrays A1 and A2 of size 5 X 4 and 3 X 4 respectively using np.random()\n",
    "    (ii) Join them and make an array A3 of 8 X 4. Now append random numbers ranging between from 0 to 5 to make the fourth array A4 of size 10 X 10.\n",
    "    (iii) Print all the arrays and their transpose ( Transpose of ‘A’ can be obtained by ‘A.T’)"
   ],
   "metadata": {}
  },
  {
   "cell_type": "code",
   "execution_count": 22,
   "source": [
    "import numpy as np\n",
    "\n",
    "# generate two matrix using np.random\n",
    "A1 = np.random.rand(5, 4)\n",
    "A2 = np.random.rand(3, 4)\n",
    "print(\"A1:\\n\",A1); print()\n",
    "print(\"A2:\\n\",A2); print()\n",
    "\n",
    "# Join them and make an array A3 of 8 X 4.\n",
    "A3 = np.concatenate((A1, A2))\n",
    "print(\"A3:\\n\",A3); print()\n",
    "\n",
    "# Now append random numbers ranging between from 0 to 5 to make the fourth array A4 of size 10 X 10.\n",
    "A4 = A3.flatten()\n",
    "arr = np.random.randint(5, size=(1, 100 - len(A4)))\n",
    "# print(A4)\n",
    "A4 = np.concatenate((A4, arr[0]))\n",
    "A4 = np.reshape(A4, (10,10))\n",
    "print(\"A4:\\n\",A4); print()\n",
    "\n",
    "print(\"Transpose: \")\n",
    "print(\"A1:\\n\",A1.transpose()); print()\n",
    "print(\"A2:\\n\",A2.transpose()); print()\n",
    "print(\"A3:\\n\",A3.transpose()); print()\n",
    "print(\"A4:\\n\",A4.transpose()); print()\n"
   ],
   "outputs": [
    {
     "output_type": "stream",
     "name": "stdout",
     "text": [
      "A1:\n",
      " [[0.45237929 0.96176518 0.43574598 0.40970668]\n",
      " [0.4446447  0.92895954 0.32755112 0.31478701]\n",
      " [0.85308555 0.30337152 0.7841342  0.77888547]\n",
      " [0.96167099 0.1032272  0.35552261 0.59353056]\n",
      " [0.60237251 0.42463533 0.96279652 0.75794169]]\n",
      "\n",
      "A2:\n",
      " [[0.6667326  0.0367286  0.84070888 0.47575324]\n",
      " [0.31151311 0.80639697 0.72803692 0.77902759]\n",
      " [0.44378869 0.29689611 0.89241741 0.46533356]]\n",
      "\n",
      "A3:\n",
      " [[0.45237929 0.96176518 0.43574598 0.40970668]\n",
      " [0.4446447  0.92895954 0.32755112 0.31478701]\n",
      " [0.85308555 0.30337152 0.7841342  0.77888547]\n",
      " [0.96167099 0.1032272  0.35552261 0.59353056]\n",
      " [0.60237251 0.42463533 0.96279652 0.75794169]\n",
      " [0.6667326  0.0367286  0.84070888 0.47575324]\n",
      " [0.31151311 0.80639697 0.72803692 0.77902759]\n",
      " [0.44378869 0.29689611 0.89241741 0.46533356]]\n",
      "\n",
      "A4:\n",
      " [[0.45237929 0.96176518 0.43574598 0.40970668 0.4446447  0.92895954\n",
      "  0.32755112 0.31478701 0.85308555 0.30337152]\n",
      " [0.7841342  0.77888547 0.96167099 0.1032272  0.35552261 0.59353056\n",
      "  0.60237251 0.42463533 0.96279652 0.75794169]\n",
      " [0.6667326  0.0367286  0.84070888 0.47575324 0.31151311 0.80639697\n",
      "  0.72803692 0.77902759 0.44378869 0.29689611]\n",
      " [0.89241741 0.46533356 0.         4.         1.         4.\n",
      "  0.         2.         2.         3.        ]\n",
      " [2.         2.         2.         3.         2.         0.\n",
      "  2.         2.         4.         4.        ]\n",
      " [4.         3.         4.         4.         0.         3.\n",
      "  4.         1.         0.         0.        ]\n",
      " [4.         4.         1.         4.         1.         0.\n",
      "  1.         3.         0.         3.        ]\n",
      " [4.         2.         0.         0.         2.         2.\n",
      "  3.         4.         3.         0.        ]\n",
      " [0.         3.         3.         1.         1.         3.\n",
      "  3.         0.         1.         3.        ]\n",
      " [2.         4.         2.         1.         3.         1.\n",
      "  2.         2.         0.         0.        ]]\n",
      "\n",
      "Transpose: \n",
      "A1:\n",
      " [[0.45237929 0.4446447  0.85308555 0.96167099 0.60237251]\n",
      " [0.96176518 0.92895954 0.30337152 0.1032272  0.42463533]\n",
      " [0.43574598 0.32755112 0.7841342  0.35552261 0.96279652]\n",
      " [0.40970668 0.31478701 0.77888547 0.59353056 0.75794169]]\n",
      "\n",
      "A2:\n",
      " [[0.6667326  0.31151311 0.44378869]\n",
      " [0.0367286  0.80639697 0.29689611]\n",
      " [0.84070888 0.72803692 0.89241741]\n",
      " [0.47575324 0.77902759 0.46533356]]\n",
      "\n",
      "A3:\n",
      " [[0.45237929 0.4446447  0.85308555 0.96167099 0.60237251 0.6667326\n",
      "  0.31151311 0.44378869]\n",
      " [0.96176518 0.92895954 0.30337152 0.1032272  0.42463533 0.0367286\n",
      "  0.80639697 0.29689611]\n",
      " [0.43574598 0.32755112 0.7841342  0.35552261 0.96279652 0.84070888\n",
      "  0.72803692 0.89241741]\n",
      " [0.40970668 0.31478701 0.77888547 0.59353056 0.75794169 0.47575324\n",
      "  0.77902759 0.46533356]]\n",
      "\n",
      "A4:\n",
      " [[0.45237929 0.7841342  0.6667326  0.89241741 2.         4.\n",
      "  4.         4.         0.         2.        ]\n",
      " [0.96176518 0.77888547 0.0367286  0.46533356 2.         3.\n",
      "  4.         2.         3.         4.        ]\n",
      " [0.43574598 0.96167099 0.84070888 0.         2.         4.\n",
      "  1.         0.         3.         2.        ]\n",
      " [0.40970668 0.1032272  0.47575324 4.         3.         4.\n",
      "  4.         0.         1.         1.        ]\n",
      " [0.4446447  0.35552261 0.31151311 1.         2.         0.\n",
      "  1.         2.         1.         3.        ]\n",
      " [0.92895954 0.59353056 0.80639697 4.         0.         3.\n",
      "  0.         2.         3.         1.        ]\n",
      " [0.32755112 0.60237251 0.72803692 0.         2.         4.\n",
      "  1.         3.         3.         2.        ]\n",
      " [0.31478701 0.42463533 0.77902759 2.         2.         1.\n",
      "  3.         4.         0.         2.        ]\n",
      " [0.85308555 0.96279652 0.44378869 2.         4.         0.\n",
      "  0.         3.         1.         0.        ]\n",
      " [0.30337152 0.75794169 0.29689611 3.         4.         0.\n",
      "  3.         0.         3.         0.        ]]\n",
      "\n"
     ]
    }
   ],
   "metadata": {}
  },
  {
   "cell_type": "markdown",
   "source": [
    "## **Exercise 5: Create two dictionaries.**\n",
    "\n",
    "\n",
    "The first dictionary ‘name’ will contain first name(key) of a person and its hash value(value). The Second will contain hash value(key) and mobile no(value).\n",
    "\n",
    "\n",
    "i) Add 5 entries.\n",
    "\n",
    "ii) Delete two entries by taking the input from user as the first name.\n",
    "\n",
    "iii) Add two entries by taking the input as the first name and mobile no.\n",
    "\n",
    "Hint: You can use remainder ( %) to obtain hash value."
   ],
   "metadata": {}
  },
  {
   "cell_type": "code",
   "execution_count": 3,
   "source": [
    "# code\n",
    "dict1={}\n",
    "dict2={}\n",
    "\n",
    "dict1[\"mohit\"]=hash(\"mohit\")\n",
    "dict1[\"aditya\"]=hash(\"aditya\")\n",
    "dict1[\"umang\"]=hash(\"umang\")\n",
    "dict1[\"sanskar\"]=hash(\"sanskar\")\n",
    "dict1[\"sachin\"]=hash(\"sachin\")\n",
    "\n",
    "print( dict1 )\n",
    "\n",
    "for x in range(1,3):\n",
    "    a=input(\"Enter first name: \")\n",
    "    del dict1[a]\n",
    "    \n",
    "print( dict1 )\n",
    "\n",
    "for x in range(1,3):\n",
    "    a=input(\"Enter first name: \")\n",
    "    b=input(\"Enter Number: \")\n",
    "    dict2[a]=b\n",
    "    \n",
    "print( dict2 )"
   ],
   "outputs": [
    {
     "output_type": "stream",
     "name": "stdout",
     "text": [
      "{'mohit': 3269859731064344992, 'aditya': -889627898511335941, 'umang': 4686701392842812356, 'sanskar': 3846248293541280279, 'sachin': 726966165297133106}\n",
      "{'aditya': -889627898511335941, 'sanskar': 3846248293541280279, 'sachin': 726966165297133106}\n",
      "{'Rahul': '9634916827', 'Sachin': '1234123456'}\n"
     ]
    }
   ],
   "metadata": {}
  },
  {
   "cell_type": "markdown",
   "source": [
    "# **PART 2: Introduction to NumPy**"
   ],
   "metadata": {}
  },
  {
   "cell_type": "markdown",
   "source": [
    "## **Exercise 6:**\n",
    "\n",
    "Write a NumPy program to create an element-wise comparison (greater,\n",
    "greater_equal, less and less_equal) of two given arrays"
   ],
   "metadata": {}
  },
  {
   "cell_type": "code",
   "execution_count": 7,
   "source": [
    "# code\n",
    "data1 = [1, 3, 54, 6, 78, 9]\n",
    "data2 = [10, 7, 56, 6, 58, 6]\n",
    "\n",
    "Greater = []\n",
    "Greater_eq = []\n",
    "less = []\n",
    "less_eq = []\n",
    "\n",
    "for x in range(0, len(data1)-1):\n",
    "    Greater.append(data1[x] > data2[x])\n",
    "    Greater_eq.append(data1[x] >= data2[x])\n",
    "    less.append(data1[x] < data2[x])\n",
    "    less_eq.append(data1[x] <= data2[x])\n",
    "\n",
    "\n",
    "print(\"Greater: \\t\", Greater)\n",
    "print(\"Greater Equal: \\t\", Greater_eq)\n",
    "print(\"Less: \\t\\t\", less)\n",
    "print(\"Less Equal: \\t\", less_eq)\n"
   ],
   "outputs": [
    {
     "output_type": "stream",
     "name": "stdout",
     "text": [
      "Greater: \t [False, False, False, False, True]\n",
      "Greater Equal: \t [False, False, False, True, True]\n",
      "Less: \t\t [True, True, True, False, False]\n",
      "Less Equal: \t [True, True, True, True, False]\n"
     ]
    }
   ],
   "metadata": {}
  },
  {
   "cell_type": "markdown",
   "source": [
    "## **Exercise 8:**\n",
    "\n",
    "Write a NumPy program to get the powers ( x ^ 3 ) of an array values element-wise\n",
    "\n",
    "Expected Output: Original array `[1 2 3 4 5 ] `\n",
    "\n",
    "Output array: `[ 1 8 27 64 125 ]`"
   ],
   "metadata": {}
  },
  {
   "cell_type": "code",
   "execution_count": 10,
   "source": [
    "import numpy as np\n",
    "data =[ 1,2,3,4,5]\n",
    "np.power(data,3)"
   ],
   "outputs": [
    {
     "output_type": "execute_result",
     "data": {
      "text/plain": [
       "array([  1,   8,  27,  64, 125])"
      ]
     },
     "metadata": {},
     "execution_count": 10
    }
   ],
   "metadata": {}
  },
  {
   "cell_type": "markdown",
   "source": [
    "## **Exercise 9:** \n",
    "\n",
    "Write a NumPy program to get the floor, ceiling and truncated values of the elements of a numpy array. \n",
    "\n",
    "Sample Output: \n",
    "\n",
    "Original array:\n",
    "\n",
    "```\n",
    "[-1.3, -1.15, -0.1, 0.12, 1.7, 0.9, 1.1] \n",
    "```\n",
    "\n",
    "  \n"
   ],
   "metadata": {}
  },
  {
   "cell_type": "code",
   "execution_count": 12,
   "source": [
    "# code\n",
    "import numpy as np\n",
    "data1 = [-1.3, -1.15, -0.1, 0.12, 1.7, 0.9, 1.1]\n",
    "\n",
    "floor = np.floor(data1)\n",
    "ceill = np.ceil(data1)\n",
    "truncated = np.trunc(data1)\n",
    "\n",
    "print(\"Floor: \", floor)\n",
    "print(\"Ceil: \", ceill)\n",
    "print(\"Truncated: \", truncated)\n"
   ],
   "outputs": [
    {
     "output_type": "stream",
     "name": "stdout",
     "text": [
      "Floor:  [-2. -2. -1.  0.  1.  0.  1.]\n",
      "Ceil:  [-1. -1. -0.  1.  2.  1.  2.]\n",
      "Truncated:  [-1. -1. -0.  0.  1.  0.  1.]\n"
     ]
    }
   ],
   "metadata": {}
  },
  {
   "cell_type": "markdown",
   "source": [
    "## **Exercise 10:** \n",
    "\n",
    "Write a program in python to display prime numbers from x to y (here x and y are user given values)."
   ],
   "metadata": {}
  },
  {
   "cell_type": "code",
   "execution_count": 18,
   "source": [
    "import sympy as sy\n",
    "\n",
    "x = int(input(\"Enter first number :\"))\n",
    "y = int(input(\"Enter second number :\"))\n",
    "print(f\"\\nPrime numbers in the range {x} - {y}\")\n",
    "\n",
    "for i in range(x, y+1):\n",
    "    if(sy.isprime(i)):\n",
    "        print(i,end=\" \")\n"
   ],
   "outputs": [
    {
     "output_type": "stream",
     "name": "stdout",
     "text": [
      "\n",
      "Prime numbers in the range 10 - 100\n",
      "11 13 17 19 23 29 31 37 41 43 47 53 59 61 67 71 73 79 83 89 97 "
     ]
    }
   ],
   "metadata": {}
  },
  {
   "cell_type": "markdown",
   "source": [
    "## Observations\n",
    "\n",
    "1. Python is one of the simplest Programming language.\n",
    "2. Python has vast libraries designed for specific tasks.\n",
    "3. Python is really convenient for Machine Learning and Artificial Intelligent.\n",
    "4. Python is easy to understand and to code.\n",
    "5. Python is little bit slower than C, C++, etc.\n",
    "6. We learn about basics syntax of Python for writing code and taking input."
   ],
   "metadata": {}
  },
  {
   "cell_type": "markdown",
   "source": [],
   "metadata": {}
  }
 ],
 "metadata": {
  "orig_nbformat": 4,
  "language_info": {
   "name": "python",
   "version": "3.9.6",
   "mimetype": "text/x-python",
   "codemirror_mode": {
    "name": "ipython",
    "version": 3
   },
   "pygments_lexer": "ipython3",
   "nbconvert_exporter": "python",
   "file_extension": ".py"
  },
  "kernelspec": {
   "name": "python3",
   "display_name": "Python 3.9.6 64-bit"
  },
  "interpreter": {
   "hash": "aee8b7b246df8f9039afb4144a1f6fd8d2ca17a180786b69acc140d282b71a49"
  }
 },
 "nbformat": 4,
 "nbformat_minor": 2
}