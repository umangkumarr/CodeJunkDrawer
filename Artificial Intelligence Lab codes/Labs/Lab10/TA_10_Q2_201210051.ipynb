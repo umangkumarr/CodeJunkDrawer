{
  "nbformat": 4,
  "nbformat_minor": 2,
  "metadata": {
    "colab": {
      "name": "191210032_10_2",
      "provenance": [],
      "collapsed_sections": []
    },
    "kernelspec": {
      "name": "python3",
      "display_name": "Python 3.9.6 64-bit"
    },
    "language_info": {
      "name": "python",
      "version": "3.9.6",
      "mimetype": "text/x-python",
      "codemirror_mode": {
        "name": "ipython",
        "version": 3
      },
      "pygments_lexer": "ipython3",
      "nbconvert_exporter": "python",
      "file_extension": ".py"
    },
    "interpreter": {
      "hash": "aee8b7b246df8f9039afb4144a1f6fd8d2ca17a180786b69acc140d282b71a49"
    }
  },
  "cells": [
    {
      "cell_type": "code",
      "execution_count": 2,
      "source": [
        "import pandas as pd\n",
        "import numpy as np"
      ],
      "outputs": [],
      "metadata": {
        "id": "kYXxpgZC5HXZ"
      }
    },
    {
      "cell_type": "code",
      "execution_count": null,
      "source": [
        "dataSet = {\n",
        "    \"Outlook\": [\"Sunny\", \"Sunny\", \"Overcast\", \"Rain\", \"Rain\", \"Rain\", \"Overcast\", \"Sunny\", \"Sunny\", \"Rain\", \"Sunny\", \"Overcast\", \"Overcast\", \"Rain\"], \n",
        "    \"Temperature\": [\"Hot\", \"Hot\", \"Hot\", \"Mild\", \"Cool\", \"Cool\", \"Cool\", \"Mild\", \"Cool\", \"Mild\", \"Mild\", \"Mild\", \"Hot\", \"Mild\"],\n",
        "    \"Humidity\": [\"High\", \"High\", \"High\", \"High\", \"Normal\", \"Normal\", \"Normal\", \"High\", \"Normal\", \"Normal\", \"Normal\", \"High\", \"Normal\", \"High\"], \n",
        "    \"Wind\": [\"Weak\", \"Strong\", \"Weak\", \"Weak\", \"Weak\", \"Strong\", \"Strong\", \"Weak\", \"Weak\", \"Weak\", \"Strong\", \"Strong\", \"Weak\", \"Strong\"], \n",
        "    \"PlayTennis\": [\"No\", \"No\", \"Yes\", \"Yes\", \"Yes\", \"No\", \"Yes\", \"No\", \"Yes\", \"Yes\", \"Yes\", \"Yes\", \"Yes\", \"No\"]\n",
        "}\n",
        "\n",
        "data = pd.DataFrame(dataSet)\n",
        "\n",
        "data"
      ],
      "outputs": [
        {
          "output_type": "execute_result",
          "data": {
            "text/plain": [
              "     Outlook Temperature Humidity    Wind PlayTennis\n",
              "0      Sunny         Hot     High    Weak         No\n",
              "1      Sunny         Hot     High  Strong         No\n",
              "2   Overcast         Hot     High    Weak        Yes\n",
              "3       Rain        Mild     High    Weak        Yes\n",
              "4       Rain        Cool   Normal    Weak        Yes\n",
              "5       Rain        Cool   Normal  Strong         No\n",
              "6   Overcast        Cool   Normal  Strong        Yes\n",
              "7      Sunny        Mild     High    Weak         No\n",
              "8      Sunny        Cool   Normal    Weak        Yes\n",
              "9       Rain        Mild   Normal    Weak        Yes\n",
              "10     Sunny        Mild   Normal  Strong        Yes\n",
              "11  Overcast        Mild     High  Strong        Yes\n",
              "12  Overcast         Hot   Normal    Weak        Yes\n",
              "13      Rain        Mild     High  Strong         No"
            ],
            "text/html": [
              "<div>\n",
              "<style scoped>\n",
              "    .dataframe tbody tr th:only-of-type {\n",
              "        vertical-align: middle;\n",
              "    }\n",
              "\n",
              "    .dataframe tbody tr th {\n",
              "        vertical-align: top;\n",
              "    }\n",
              "\n",
              "    .dataframe thead th {\n",
              "        text-align: right;\n",
              "    }\n",
              "</style>\n",
              "<table border=\"1\" class=\"dataframe\">\n",
              "  <thead>\n",
              "    <tr style=\"text-align: right;\">\n",
              "      <th></th>\n",
              "      <th>Outlook</th>\n",
              "      <th>Temperature</th>\n",
              "      <th>Humidity</th>\n",
              "      <th>Wind</th>\n",
              "      <th>PlayTennis</th>\n",
              "    </tr>\n",
              "  </thead>\n",
              "  <tbody>\n",
              "    <tr>\n",
              "      <th>0</th>\n",
              "      <td>Sunny</td>\n",
              "      <td>Hot</td>\n",
              "      <td>High</td>\n",
              "      <td>Weak</td>\n",
              "      <td>No</td>\n",
              "    </tr>\n",
              "    <tr>\n",
              "      <th>1</th>\n",
              "      <td>Sunny</td>\n",
              "      <td>Hot</td>\n",
              "      <td>High</td>\n",
              "      <td>Strong</td>\n",
              "      <td>No</td>\n",
              "    </tr>\n",
              "    <tr>\n",
              "      <th>2</th>\n",
              "      <td>Overcast</td>\n",
              "      <td>Hot</td>\n",
              "      <td>High</td>\n",
              "      <td>Weak</td>\n",
              "      <td>Yes</td>\n",
              "    </tr>\n",
              "    <tr>\n",
              "      <th>3</th>\n",
              "      <td>Rain</td>\n",
              "      <td>Mild</td>\n",
              "      <td>High</td>\n",
              "      <td>Weak</td>\n",
              "      <td>Yes</td>\n",
              "    </tr>\n",
              "    <tr>\n",
              "      <th>4</th>\n",
              "      <td>Rain</td>\n",
              "      <td>Cool</td>\n",
              "      <td>Normal</td>\n",
              "      <td>Weak</td>\n",
              "      <td>Yes</td>\n",
              "    </tr>\n",
              "    <tr>\n",
              "      <th>5</th>\n",
              "      <td>Rain</td>\n",
              "      <td>Cool</td>\n",
              "      <td>Normal</td>\n",
              "      <td>Strong</td>\n",
              "      <td>No</td>\n",
              "    </tr>\n",
              "    <tr>\n",
              "      <th>6</th>\n",
              "      <td>Overcast</td>\n",
              "      <td>Cool</td>\n",
              "      <td>Normal</td>\n",
              "      <td>Strong</td>\n",
              "      <td>Yes</td>\n",
              "    </tr>\n",
              "    <tr>\n",
              "      <th>7</th>\n",
              "      <td>Sunny</td>\n",
              "      <td>Mild</td>\n",
              "      <td>High</td>\n",
              "      <td>Weak</td>\n",
              "      <td>No</td>\n",
              "    </tr>\n",
              "    <tr>\n",
              "      <th>8</th>\n",
              "      <td>Sunny</td>\n",
              "      <td>Cool</td>\n",
              "      <td>Normal</td>\n",
              "      <td>Weak</td>\n",
              "      <td>Yes</td>\n",
              "    </tr>\n",
              "    <tr>\n",
              "      <th>9</th>\n",
              "      <td>Rain</td>\n",
              "      <td>Mild</td>\n",
              "      <td>Normal</td>\n",
              "      <td>Weak</td>\n",
              "      <td>Yes</td>\n",
              "    </tr>\n",
              "    <tr>\n",
              "      <th>10</th>\n",
              "      <td>Sunny</td>\n",
              "      <td>Mild</td>\n",
              "      <td>Normal</td>\n",
              "      <td>Strong</td>\n",
              "      <td>Yes</td>\n",
              "    </tr>\n",
              "    <tr>\n",
              "      <th>11</th>\n",
              "      <td>Overcast</td>\n",
              "      <td>Mild</td>\n",
              "      <td>High</td>\n",
              "      <td>Strong</td>\n",
              "      <td>Yes</td>\n",
              "    </tr>\n",
              "    <tr>\n",
              "      <th>12</th>\n",
              "      <td>Overcast</td>\n",
              "      <td>Hot</td>\n",
              "      <td>Normal</td>\n",
              "      <td>Weak</td>\n",
              "      <td>Yes</td>\n",
              "    </tr>\n",
              "    <tr>\n",
              "      <th>13</th>\n",
              "      <td>Rain</td>\n",
              "      <td>Mild</td>\n",
              "      <td>High</td>\n",
              "      <td>Strong</td>\n",
              "      <td>No</td>\n",
              "    </tr>\n",
              "  </tbody>\n",
              "</table>\n",
              "</div>"
            ]
          },
          "metadata": {},
          "execution_count": 35
        }
      ],
      "metadata": {
        "colab": {
          "base_uri": "https://localhost:8080/",
          "height": 483
        },
        "id": "GmdX3PZ2kLBs",
        "outputId": "02b57e81-60b5-456c-9ce2-15d4ded3f9ac"
      }
    },
    {
      "cell_type": "code",
      "execution_count": null,
      "source": [
        "from sklearn import preprocessing\n",
        "\n",
        "# Label encoding\n",
        "outlook, temperature, humidity, wind, play = [], [], [], [], []\n",
        "label_encoder = preprocessing.LabelEncoder()\n",
        "cur=[]\n",
        "for index, row in data.iterrows():\n",
        "  cur.append(row[\"Outlook\"])\n",
        "  if(index == 13):\n",
        "    outlook = cur\n",
        "outlook_encoded = label_encoder.fit_transform(outlook)\n",
        "cur=[]\n",
        "for index, row in data.iterrows():\n",
        "  cur.append(row[\"Temperature\"])\n",
        "  if(index == 13):\n",
        "    temperature = cur\n",
        "temperature_encoded = label_encoder.fit_transform(temperature)\n",
        "cur=[]\n",
        "for index, row in data.iterrows():\n",
        "  cur.append(row[\"Humidity\"])\n",
        "  if(index == 13):\n",
        "    humidity = cur\n",
        "humidity_encoded = label_encoder.fit_transform(humidity)\n",
        "cur=[]\n",
        "for index, row in data.iterrows():\n",
        "  cur.append(row[\"Wind\"])\n",
        "  if(index == 13):\n",
        "    wind = cur\n",
        "wind_encoded = label_encoder.fit_transform(wind)\n",
        "cur=[]\n",
        "for index, row in data.iterrows():\n",
        "  cur.append(row[\"PlayTennis\"])\n",
        "  if(index == 13):\n",
        "    play = cur\n",
        "play_encoded = label_encoder.fit_transform(play)\n",
        "\n",
        "print(\"Outlook:\", outlook_encoded)\n",
        "print(\"Temperature: \", temperature_encoded)\n",
        "print(\"Humidity: \", humidity_encoded)\n",
        "print(\"Wind: \", wind_encoded)\n",
        "print(\"Play: \", play_encoded)"
      ],
      "outputs": [
        {
          "output_type": "stream",
          "name": "stdout",
          "text": [
            "Outlook: [2 2 0 1 1 1 0 2 2 1 2 0 0 1]\n",
            "Temperature:  [1 1 1 2 0 0 0 2 0 2 2 2 1 2]\n",
            "Humidity:  [0 0 0 0 1 1 1 0 1 1 1 0 1 0]\n",
            "Wind:  [1 0 1 1 1 0 0 1 1 1 0 0 1 0]\n",
            "Play:  [0 0 1 1 1 0 1 0 1 1 1 1 1 0]\n"
          ]
        }
      ],
      "metadata": {
        "colab": {
          "base_uri": "https://localhost:8080/"
        },
        "id": "Bkm7uRFdmDhq",
        "outputId": "5b31756f-c10d-431f-94a5-5ac8b92ad535"
      }
    },
    {
      "cell_type": "code",
      "execution_count": null,
      "source": [
        "features = list(zip(outlook_encoded, temperature_encoded, humidity_encoded, wind_encoded))\n",
        "\n",
        "features"
      ],
      "outputs": [
        {
          "output_type": "execute_result",
          "data": {
            "text/plain": [
              "[(2, 1, 0, 1),\n",
              " (2, 1, 0, 0),\n",
              " (0, 1, 0, 1),\n",
              " (1, 2, 0, 1),\n",
              " (1, 0, 1, 1),\n",
              " (1, 0, 1, 0),\n",
              " (0, 0, 1, 0),\n",
              " (2, 2, 0, 1),\n",
              " (2, 0, 1, 1),\n",
              " (1, 2, 1, 1),\n",
              " (2, 2, 1, 0),\n",
              " (0, 2, 0, 0),\n",
              " (0, 1, 1, 1),\n",
              " (1, 2, 0, 0)]"
            ]
          },
          "metadata": {},
          "execution_count": 37
        }
      ],
      "metadata": {
        "colab": {
          "base_uri": "https://localhost:8080/"
        },
        "id": "T24-ksF5ys2x",
        "outputId": "cf634765-e3a4-437d-c890-8564c3b39b17"
      }
    },
    {
      "cell_type": "code",
      "execution_count": null,
      "source": [
        "from sklearn.naive_bayes import GaussianNB\n",
        "\n",
        "model = GaussianNB()\n",
        "\n",
        "model.fit(features,play_encoded)\n",
        "\n",
        "predicted_1 = model.predict([[2, 0, 0, 1]]) # Sunny, Cool, High, Weak\n",
        "predicted_2 = model.predict([[1, 1, 0, 1]]) # Rain, Hot, High, Weak\n",
        "\n",
        "print(predicted_1)\n",
        "print(predicted_2)"
      ],
      "outputs": [
        {
          "output_type": "stream",
          "name": "stdout",
          "text": [
            "[0]\n",
            "[1]\n"
          ]
        }
      ],
      "metadata": {
        "colab": {
          "base_uri": "https://localhost:8080/"
        },
        "id": "xYv0AciEzHqt",
        "outputId": "cc5d0226-83a6-47f6-8ad4-a0985e03216c"
      }
    },
    {
      "cell_type": "code",
      "execution_count": null,
      "source": [
        "# zip() function returns a zip object, which is an iterator of tuples on which the play \n",
        "# column depends. Thus, this will zip the deciding columns as a single unit\n",
        "X = list(zip(outlook_encoded, temperature_encoded, humidity_encoded, wind_encoded))\n",
        "Y = play_encoded\n",
        "\n",
        "print(\"X: \", X)\n",
        "print(\"Y: \", Y)"
      ],
      "outputs": [
        {
          "output_type": "stream",
          "name": "stdout",
          "text": [
            "X:  [(2, 1, 0, 1), (2, 1, 0, 0), (0, 1, 0, 1), (1, 2, 0, 1), (1, 0, 1, 1), (1, 0, 1, 0), (0, 0, 1, 0), (2, 2, 0, 1), (2, 0, 1, 1), (1, 2, 1, 1), (2, 2, 1, 0), (0, 2, 0, 0), (0, 1, 1, 1), (1, 2, 0, 0)]\n",
            "Y:  [0 0 1 1 1 0 1 0 1 1 1 1 1 0]\n"
          ]
        }
      ],
      "metadata": {
        "colab": {
          "base_uri": "https://localhost:8080/"
        },
        "id": "scRtXoWA7gI-",
        "outputId": "b04cb97e-139a-48ab-e140-15c051ce57b2"
      }
    },
    {
      "cell_type": "code",
      "execution_count": null,
      "source": [
        "# DecisionTreeClassifier is a class capable of performing multi-class classification on a dataset \n",
        "# based on either cart(Gini) or ID3(Entropy/Information gain) \n",
        "from sklearn import tree\n",
        "clf_gini = tree.DecisionTreeClassifier(criterion = 'gini')\n",
        "clf_gini = clf_gini.fit(X, Y)\n",
        "clf_ig = tree.DecisionTreeClassifier(criterion = 'entropy')\n",
        "clf_ig = clf_ig.fit(X, Y)"
      ],
      "outputs": [],
      "metadata": {
        "id": "4dlAXAnl7kC1"
      }
    },
    {
      "cell_type": "code",
      "execution_count": null,
      "source": [
        "import graphviz \n",
        "# Creating the graph using gini as impurity index\n",
        "data_gini = tree.export_graphviz(clf_gini, out_file=None) \n",
        "graph_gini = graphviz.Source(data_gini) \n",
        "\n",
        "graph_gini"
      ],
      "outputs": [
        {
          "output_type": "execute_result",
          "data": {
            "text/plain": [
              "<graphviz.files.Source at 0x7f8be81d97d0>"
            ],
            "image/svg+xml": "<?xml version=\"1.0\" encoding=\"UTF-8\" standalone=\"no\"?>\n<!DOCTYPE svg PUBLIC \"-//W3C//DTD SVG 1.1//EN\"\n \"http://www.w3.org/Graphics/SVG/1.1/DTD/svg11.dtd\">\n<!-- Generated by graphviz version 2.40.1 (20161225.0304)\n -->\n<!-- Title: Tree Pages: 1 -->\n<svg width=\"545pt\" height=\"477pt\"\n viewBox=\"0.00 0.00 545.00 477.00\" xmlns=\"http://www.w3.org/2000/svg\" xmlns:xlink=\"http://www.w3.org/1999/xlink\">\n<g id=\"graph0\" class=\"graph\" transform=\"scale(1 1) rotate(0) translate(4 473)\">\n<title>Tree</title>\n<polygon fill=\"#ffffff\" stroke=\"transparent\" points=\"-4,4 -4,-473 541,-473 541,4 -4,4\"/>\n<!-- 0 -->\n<g id=\"node1\" class=\"node\">\n<title>0</title>\n<polygon fill=\"none\" stroke=\"#000000\" points=\"303.5,-469 199.5,-469 199.5,-401 303.5,-401 303.5,-469\"/>\n<text text-anchor=\"middle\" x=\"251.5\" y=\"-453.8\" font-family=\"Helvetica,sans-Serif\" font-size=\"14.00\" fill=\"#000000\">X[0] &lt;= 0.5</text>\n<text text-anchor=\"middle\" x=\"251.5\" y=\"-438.8\" font-family=\"Helvetica,sans-Serif\" font-size=\"14.00\" fill=\"#000000\">gini = 0.459</text>\n<text text-anchor=\"middle\" x=\"251.5\" y=\"-423.8\" font-family=\"Helvetica,sans-Serif\" font-size=\"14.00\" fill=\"#000000\">samples = 14</text>\n<text text-anchor=\"middle\" x=\"251.5\" y=\"-408.8\" font-family=\"Helvetica,sans-Serif\" font-size=\"14.00\" fill=\"#000000\">value = [5, 9]</text>\n</g>\n<!-- 1 -->\n<g id=\"node2\" class=\"node\">\n<title>1</title>\n<polygon fill=\"none\" stroke=\"#000000\" points=\"241,-357.5 142,-357.5 142,-304.5 241,-304.5 241,-357.5\"/>\n<text text-anchor=\"middle\" x=\"191.5\" y=\"-342.3\" font-family=\"Helvetica,sans-Serif\" font-size=\"14.00\" fill=\"#000000\">gini = 0.0</text>\n<text text-anchor=\"middle\" x=\"191.5\" y=\"-327.3\" font-family=\"Helvetica,sans-Serif\" font-size=\"14.00\" fill=\"#000000\">samples = 4</text>\n<text text-anchor=\"middle\" x=\"191.5\" y=\"-312.3\" font-family=\"Helvetica,sans-Serif\" font-size=\"14.00\" fill=\"#000000\">value = [0, 4]</text>\n</g>\n<!-- 0&#45;&gt;1 -->\n<g id=\"edge1\" class=\"edge\">\n<title>0&#45;&gt;1</title>\n<path fill=\"none\" stroke=\"#000000\" d=\"M231.8538,-400.9465C225.4355,-389.8215 218.2965,-377.4473 211.829,-366.237\"/>\n<polygon fill=\"#000000\" stroke=\"#000000\" points=\"214.8417,-364.455 206.8128,-357.5422 208.7784,-367.9531 214.8417,-364.455\"/>\n<text text-anchor=\"middle\" x=\"200.3346\" y=\"-377.9882\" font-family=\"Helvetica,sans-Serif\" font-size=\"14.00\" fill=\"#000000\">True</text>\n</g>\n<!-- 2 -->\n<g id=\"node3\" class=\"node\">\n<title>2</title>\n<polygon fill=\"none\" stroke=\"#000000\" points=\"363.5,-365 259.5,-365 259.5,-297 363.5,-297 363.5,-365\"/>\n<text text-anchor=\"middle\" x=\"311.5\" y=\"-349.8\" font-family=\"Helvetica,sans-Serif\" font-size=\"14.00\" fill=\"#000000\">X[2] &lt;= 0.5</text>\n<text text-anchor=\"middle\" x=\"311.5\" y=\"-334.8\" font-family=\"Helvetica,sans-Serif\" font-size=\"14.00\" fill=\"#000000\">gini = 0.5</text>\n<text text-anchor=\"middle\" x=\"311.5\" y=\"-319.8\" font-family=\"Helvetica,sans-Serif\" font-size=\"14.00\" fill=\"#000000\">samples = 10</text>\n<text text-anchor=\"middle\" x=\"311.5\" y=\"-304.8\" font-family=\"Helvetica,sans-Serif\" font-size=\"14.00\" fill=\"#000000\">value = [5, 5]</text>\n</g>\n<!-- 0&#45;&gt;2 -->\n<g id=\"edge2\" class=\"edge\">\n<title>0&#45;&gt;2</title>\n<path fill=\"none\" stroke=\"#000000\" d=\"M271.1462,-400.9465C276.119,-392.3271 281.5243,-382.9579 286.7148,-373.9611\"/>\n<polygon fill=\"#000000\" stroke=\"#000000\" points=\"289.844,-375.5409 291.8096,-365.13 283.7807,-372.0428 289.844,-375.5409\"/>\n<text text-anchor=\"middle\" x=\"298.2878\" y=\"-385.5761\" font-family=\"Helvetica,sans-Serif\" font-size=\"14.00\" fill=\"#000000\">False</text>\n</g>\n<!-- 3 -->\n<g id=\"node4\" class=\"node\">\n<title>3</title>\n<polygon fill=\"none\" stroke=\"#000000\" points=\"303,-261 204,-261 204,-193 303,-193 303,-261\"/>\n<text text-anchor=\"middle\" x=\"253.5\" y=\"-245.8\" font-family=\"Helvetica,sans-Serif\" font-size=\"14.00\" fill=\"#000000\">X[0] &lt;= 1.5</text>\n<text text-anchor=\"middle\" x=\"253.5\" y=\"-230.8\" font-family=\"Helvetica,sans-Serif\" font-size=\"14.00\" fill=\"#000000\">gini = 0.32</text>\n<text text-anchor=\"middle\" x=\"253.5\" y=\"-215.8\" font-family=\"Helvetica,sans-Serif\" font-size=\"14.00\" fill=\"#000000\">samples = 5</text>\n<text text-anchor=\"middle\" x=\"253.5\" y=\"-200.8\" font-family=\"Helvetica,sans-Serif\" font-size=\"14.00\" fill=\"#000000\">value = [4, 1]</text>\n</g>\n<!-- 2&#45;&gt;3 -->\n<g id=\"edge3\" class=\"edge\">\n<title>2&#45;&gt;3</title>\n<path fill=\"none\" stroke=\"#000000\" d=\"M292.5086,-296.9465C287.7017,-288.3271 282.4765,-278.9579 277.4591,-269.9611\"/>\n<polygon fill=\"#000000\" stroke=\"#000000\" points=\"280.4615,-268.1589 272.534,-261.13 274.348,-271.5684 280.4615,-268.1589\"/>\n</g>\n<!-- 8 -->\n<g id=\"node9\" class=\"node\">\n<title>8</title>\n<polygon fill=\"none\" stroke=\"#000000\" points=\"420,-261 321,-261 321,-193 420,-193 420,-261\"/>\n<text text-anchor=\"middle\" x=\"370.5\" y=\"-245.8\" font-family=\"Helvetica,sans-Serif\" font-size=\"14.00\" fill=\"#000000\">X[3] &lt;= 0.5</text>\n<text text-anchor=\"middle\" x=\"370.5\" y=\"-230.8\" font-family=\"Helvetica,sans-Serif\" font-size=\"14.00\" fill=\"#000000\">gini = 0.32</text>\n<text text-anchor=\"middle\" x=\"370.5\" y=\"-215.8\" font-family=\"Helvetica,sans-Serif\" font-size=\"14.00\" fill=\"#000000\">samples = 5</text>\n<text text-anchor=\"middle\" x=\"370.5\" y=\"-200.8\" font-family=\"Helvetica,sans-Serif\" font-size=\"14.00\" fill=\"#000000\">value = [1, 4]</text>\n</g>\n<!-- 2&#45;&gt;8 -->\n<g id=\"edge8\" class=\"edge\">\n<title>2&#45;&gt;8</title>\n<path fill=\"none\" stroke=\"#000000\" d=\"M330.8188,-296.9465C335.7087,-288.3271 341.0239,-278.9579 346.1278,-269.9611\"/>\n<polygon fill=\"#000000\" stroke=\"#000000\" points=\"349.2476,-271.5549 351.1378,-261.13 343.1592,-268.1008 349.2476,-271.5549\"/>\n</g>\n<!-- 4 -->\n<g id=\"node5\" class=\"node\">\n<title>4</title>\n<polygon fill=\"none\" stroke=\"#000000\" points=\"186,-157 87,-157 87,-89 186,-89 186,-157\"/>\n<text text-anchor=\"middle\" x=\"136.5\" y=\"-141.8\" font-family=\"Helvetica,sans-Serif\" font-size=\"14.00\" fill=\"#000000\">X[3] &lt;= 0.5</text>\n<text text-anchor=\"middle\" x=\"136.5\" y=\"-126.8\" font-family=\"Helvetica,sans-Serif\" font-size=\"14.00\" fill=\"#000000\">gini = 0.5</text>\n<text text-anchor=\"middle\" x=\"136.5\" y=\"-111.8\" font-family=\"Helvetica,sans-Serif\" font-size=\"14.00\" fill=\"#000000\">samples = 2</text>\n<text text-anchor=\"middle\" x=\"136.5\" y=\"-96.8\" font-family=\"Helvetica,sans-Serif\" font-size=\"14.00\" fill=\"#000000\">value = [1, 1]</text>\n</g>\n<!-- 3&#45;&gt;4 -->\n<g id=\"edge4\" class=\"edge\">\n<title>3&#45;&gt;4</title>\n<path fill=\"none\" stroke=\"#000000\" d=\"M215.1898,-192.9465C204.7859,-183.6986 193.411,-173.5876 182.6243,-163.9994\"/>\n<polygon fill=\"#000000\" stroke=\"#000000\" points=\"184.6956,-161.1577 174.8962,-157.13 180.0451,-166.3896 184.6956,-161.1577\"/>\n</g>\n<!-- 7 -->\n<g id=\"node8\" class=\"node\">\n<title>7</title>\n<polygon fill=\"none\" stroke=\"#000000\" points=\"303,-149.5 204,-149.5 204,-96.5 303,-96.5 303,-149.5\"/>\n<text text-anchor=\"middle\" x=\"253.5\" y=\"-134.3\" font-family=\"Helvetica,sans-Serif\" font-size=\"14.00\" fill=\"#000000\">gini = 0.0</text>\n<text text-anchor=\"middle\" x=\"253.5\" y=\"-119.3\" font-family=\"Helvetica,sans-Serif\" font-size=\"14.00\" fill=\"#000000\">samples = 3</text>\n<text text-anchor=\"middle\" x=\"253.5\" y=\"-104.3\" font-family=\"Helvetica,sans-Serif\" font-size=\"14.00\" fill=\"#000000\">value = [3, 0]</text>\n</g>\n<!-- 3&#45;&gt;7 -->\n<g id=\"edge7\" class=\"edge\">\n<title>3&#45;&gt;7</title>\n<path fill=\"none\" stroke=\"#000000\" d=\"M253.5,-192.9465C253.5,-182.2621 253.5,-170.4254 253.5,-159.5742\"/>\n<polygon fill=\"#000000\" stroke=\"#000000\" points=\"257.0001,-159.5421 253.5,-149.5422 250.0001,-159.5422 257.0001,-159.5421\"/>\n</g>\n<!-- 5 -->\n<g id=\"node6\" class=\"node\">\n<title>5</title>\n<polygon fill=\"none\" stroke=\"#000000\" points=\"99,-53 0,-53 0,0 99,0 99,-53\"/>\n<text text-anchor=\"middle\" x=\"49.5\" y=\"-37.8\" font-family=\"Helvetica,sans-Serif\" font-size=\"14.00\" fill=\"#000000\">gini = 0.0</text>\n<text text-anchor=\"middle\" x=\"49.5\" y=\"-22.8\" font-family=\"Helvetica,sans-Serif\" font-size=\"14.00\" fill=\"#000000\">samples = 1</text>\n<text text-anchor=\"middle\" x=\"49.5\" y=\"-7.8\" font-family=\"Helvetica,sans-Serif\" font-size=\"14.00\" fill=\"#000000\">value = [1, 0]</text>\n</g>\n<!-- 4&#45;&gt;5 -->\n<g id=\"edge5\" class=\"edge\">\n<title>4&#45;&gt;5</title>\n<path fill=\"none\" stroke=\"#000000\" d=\"M105.8271,-88.9777C97.5715,-79.8207 88.6391,-69.9129 80.3728,-60.744\"/>\n<polygon fill=\"#000000\" stroke=\"#000000\" points=\"82.9108,-58.3321 73.6152,-53.2485 77.7117,-63.0193 82.9108,-58.3321\"/>\n</g>\n<!-- 6 -->\n<g id=\"node7\" class=\"node\">\n<title>6</title>\n<polygon fill=\"none\" stroke=\"#000000\" points=\"216,-53 117,-53 117,0 216,0 216,-53\"/>\n<text text-anchor=\"middle\" x=\"166.5\" y=\"-37.8\" font-family=\"Helvetica,sans-Serif\" font-size=\"14.00\" fill=\"#000000\">gini = 0.0</text>\n<text text-anchor=\"middle\" x=\"166.5\" y=\"-22.8\" font-family=\"Helvetica,sans-Serif\" font-size=\"14.00\" fill=\"#000000\">samples = 1</text>\n<text text-anchor=\"middle\" x=\"166.5\" y=\"-7.8\" font-family=\"Helvetica,sans-Serif\" font-size=\"14.00\" fill=\"#000000\">value = [0, 1]</text>\n</g>\n<!-- 4&#45;&gt;6 -->\n<g id=\"edge6\" class=\"edge\">\n<title>4&#45;&gt;6</title>\n<path fill=\"none\" stroke=\"#000000\" d=\"M147.0769,-88.9777C149.6959,-80.5533 152.5124,-71.4934 155.1659,-62.9579\"/>\n<polygon fill=\"#000000\" stroke=\"#000000\" points=\"158.5579,-63.8367 158.1844,-53.2485 151.8735,-61.7586 158.5579,-63.8367\"/>\n</g>\n<!-- 9 -->\n<g id=\"node10\" class=\"node\">\n<title>9</title>\n<polygon fill=\"none\" stroke=\"#000000\" points=\"420,-157 321,-157 321,-89 420,-89 420,-157\"/>\n<text text-anchor=\"middle\" x=\"370.5\" y=\"-141.8\" font-family=\"Helvetica,sans-Serif\" font-size=\"14.00\" fill=\"#000000\">X[0] &lt;= 1.5</text>\n<text text-anchor=\"middle\" x=\"370.5\" y=\"-126.8\" font-family=\"Helvetica,sans-Serif\" font-size=\"14.00\" fill=\"#000000\">gini = 0.5</text>\n<text text-anchor=\"middle\" x=\"370.5\" y=\"-111.8\" font-family=\"Helvetica,sans-Serif\" font-size=\"14.00\" fill=\"#000000\">samples = 2</text>\n<text text-anchor=\"middle\" x=\"370.5\" y=\"-96.8\" font-family=\"Helvetica,sans-Serif\" font-size=\"14.00\" fill=\"#000000\">value = [1, 1]</text>\n</g>\n<!-- 8&#45;&gt;9 -->\n<g id=\"edge9\" class=\"edge\">\n<title>8&#45;&gt;9</title>\n<path fill=\"none\" stroke=\"#000000\" d=\"M370.5,-192.9465C370.5,-184.776 370.5,-175.9318 370.5,-167.3697\"/>\n<polygon fill=\"#000000\" stroke=\"#000000\" points=\"374.0001,-167.13 370.5,-157.13 367.0001,-167.13 374.0001,-167.13\"/>\n</g>\n<!-- 12 -->\n<g id=\"node13\" class=\"node\">\n<title>12</title>\n<polygon fill=\"none\" stroke=\"#000000\" points=\"537,-149.5 438,-149.5 438,-96.5 537,-96.5 537,-149.5\"/>\n<text text-anchor=\"middle\" x=\"487.5\" y=\"-134.3\" font-family=\"Helvetica,sans-Serif\" font-size=\"14.00\" fill=\"#000000\">gini = 0.0</text>\n<text text-anchor=\"middle\" x=\"487.5\" y=\"-119.3\" font-family=\"Helvetica,sans-Serif\" font-size=\"14.00\" fill=\"#000000\">samples = 3</text>\n<text text-anchor=\"middle\" x=\"487.5\" y=\"-104.3\" font-family=\"Helvetica,sans-Serif\" font-size=\"14.00\" fill=\"#000000\">value = [0, 3]</text>\n</g>\n<!-- 8&#45;&gt;12 -->\n<g id=\"edge12\" class=\"edge\">\n<title>8&#45;&gt;12</title>\n<path fill=\"none\" stroke=\"#000000\" d=\"M408.8102,-192.9465C422.0694,-181.1606 436.9058,-167.9726 450.0916,-156.2519\"/>\n<polygon fill=\"#000000\" stroke=\"#000000\" points=\"452.4912,-158.8018 457.6401,-149.5422 447.8407,-153.5699 452.4912,-158.8018\"/>\n</g>\n<!-- 10 -->\n<g id=\"node11\" class=\"node\">\n<title>10</title>\n<polygon fill=\"none\" stroke=\"#000000\" points=\"391,-53 292,-53 292,0 391,0 391,-53\"/>\n<text text-anchor=\"middle\" x=\"341.5\" y=\"-37.8\" font-family=\"Helvetica,sans-Serif\" font-size=\"14.00\" fill=\"#000000\">gini = 0.0</text>\n<text text-anchor=\"middle\" x=\"341.5\" y=\"-22.8\" font-family=\"Helvetica,sans-Serif\" font-size=\"14.00\" fill=\"#000000\">samples = 1</text>\n<text text-anchor=\"middle\" x=\"341.5\" y=\"-7.8\" font-family=\"Helvetica,sans-Serif\" font-size=\"14.00\" fill=\"#000000\">value = [1, 0]</text>\n</g>\n<!-- 9&#45;&gt;10 -->\n<g id=\"edge10\" class=\"edge\">\n<title>9&#45;&gt;10</title>\n<path fill=\"none\" stroke=\"#000000\" d=\"M360.2757,-88.9777C357.744,-80.5533 355.0213,-71.4934 352.4563,-62.9579\"/>\n<polygon fill=\"#000000\" stroke=\"#000000\" points=\"355.7684,-61.818 349.5384,-53.2485 349.0646,-63.8327 355.7684,-61.818\"/>\n</g>\n<!-- 11 -->\n<g id=\"node12\" class=\"node\">\n<title>11</title>\n<polygon fill=\"none\" stroke=\"#000000\" points=\"508,-53 409,-53 409,0 508,0 508,-53\"/>\n<text text-anchor=\"middle\" x=\"458.5\" y=\"-37.8\" font-family=\"Helvetica,sans-Serif\" font-size=\"14.00\" fill=\"#000000\">gini = 0.0</text>\n<text text-anchor=\"middle\" x=\"458.5\" y=\"-22.8\" font-family=\"Helvetica,sans-Serif\" font-size=\"14.00\" fill=\"#000000\">samples = 1</text>\n<text text-anchor=\"middle\" x=\"458.5\" y=\"-7.8\" font-family=\"Helvetica,sans-Serif\" font-size=\"14.00\" fill=\"#000000\">value = [0, 1]</text>\n</g>\n<!-- 9&#45;&gt;11 -->\n<g id=\"edge11\" class=\"edge\">\n<title>9&#45;&gt;11</title>\n<path fill=\"none\" stroke=\"#000000\" d=\"M401.5255,-88.9777C409.8759,-79.8207 418.911,-69.9129 427.2724,-60.744\"/>\n<polygon fill=\"#000000\" stroke=\"#000000\" points=\"429.9556,-62.9959 434.1076,-53.2485 424.7833,-58.2791 429.9556,-62.9959\"/>\n</g>\n</g>\n</svg>\n"
          },
          "metadata": {},
          "execution_count": 41
        }
      ],
      "metadata": {
        "colab": {
          "base_uri": "https://localhost:8080/",
          "height": 657
        },
        "id": "7v9U1TgW7tZW",
        "outputId": "c57e9195-89ef-4aa6-86f4-0e97c72c3a80"
      }
    },
    {
      "cell_type": "code",
      "execution_count": null,
      "source": [
        "import graphviz \n",
        "# Creating the graph using information gain as impurity index\n",
        "data_ig = tree.export_graphviz(clf_ig, out_file=None)\n",
        "graph_ig = graphviz.Source(data_ig)\n",
        "\n",
        "graph_ig"
      ],
      "outputs": [
        {
          "output_type": "execute_result",
          "data": {
            "text/plain": [
              "<graphviz.files.Source at 0x7f8be81f6590>"
            ],
            "image/svg+xml": "<?xml version=\"1.0\" encoding=\"UTF-8\" standalone=\"no\"?>\n<!DOCTYPE svg PUBLIC \"-//W3C//DTD SVG 1.1//EN\"\n \"http://www.w3.org/Graphics/SVG/1.1/DTD/svg11.dtd\">\n<!-- Generated by graphviz version 2.40.1 (20161225.0304)\n -->\n<!-- Title: Tree Pages: 1 -->\n<svg width=\"559pt\" height=\"477pt\"\n viewBox=\"0.00 0.00 559.00 477.00\" xmlns=\"http://www.w3.org/2000/svg\" xmlns:xlink=\"http://www.w3.org/1999/xlink\">\n<g id=\"graph0\" class=\"graph\" transform=\"scale(1 1) rotate(0) translate(4 473)\">\n<title>Tree</title>\n<polygon fill=\"#ffffff\" stroke=\"transparent\" points=\"-4,4 -4,-473 555,-473 555,4 -4,4\"/>\n<!-- 0 -->\n<g id=\"node1\" class=\"node\">\n<title>0</title>\n<polygon fill=\"none\" stroke=\"#000000\" points=\"311.5,-469 201.5,-469 201.5,-401 311.5,-401 311.5,-469\"/>\n<text text-anchor=\"middle\" x=\"256.5\" y=\"-453.8\" font-family=\"Helvetica,sans-Serif\" font-size=\"14.00\" fill=\"#000000\">X[0] &lt;= 0.5</text>\n<text text-anchor=\"middle\" x=\"256.5\" y=\"-438.8\" font-family=\"Helvetica,sans-Serif\" font-size=\"14.00\" fill=\"#000000\">entropy = 0.94</text>\n<text text-anchor=\"middle\" x=\"256.5\" y=\"-423.8\" font-family=\"Helvetica,sans-Serif\" font-size=\"14.00\" fill=\"#000000\">samples = 14</text>\n<text text-anchor=\"middle\" x=\"256.5\" y=\"-408.8\" font-family=\"Helvetica,sans-Serif\" font-size=\"14.00\" fill=\"#000000\">value = [5, 9]</text>\n</g>\n<!-- 1 -->\n<g id=\"node2\" class=\"node\">\n<title>1</title>\n<polygon fill=\"none\" stroke=\"#000000\" points=\"247,-357.5 146,-357.5 146,-304.5 247,-304.5 247,-357.5\"/>\n<text text-anchor=\"middle\" x=\"196.5\" y=\"-342.3\" font-family=\"Helvetica,sans-Serif\" font-size=\"14.00\" fill=\"#000000\">entropy = 0.0</text>\n<text text-anchor=\"middle\" x=\"196.5\" y=\"-327.3\" font-family=\"Helvetica,sans-Serif\" font-size=\"14.00\" fill=\"#000000\">samples = 4</text>\n<text text-anchor=\"middle\" x=\"196.5\" y=\"-312.3\" font-family=\"Helvetica,sans-Serif\" font-size=\"14.00\" fill=\"#000000\">value = [0, 4]</text>\n</g>\n<!-- 0&#45;&gt;1 -->\n<g id=\"edge1\" class=\"edge\">\n<title>0&#45;&gt;1</title>\n<path fill=\"none\" stroke=\"#000000\" d=\"M236.8538,-400.9465C230.4355,-389.8215 223.2965,-377.4473 216.829,-366.237\"/>\n<polygon fill=\"#000000\" stroke=\"#000000\" points=\"219.8417,-364.455 211.8128,-357.5422 213.7784,-367.9531 219.8417,-364.455\"/>\n<text text-anchor=\"middle\" x=\"205.3346\" y=\"-377.9882\" font-family=\"Helvetica,sans-Serif\" font-size=\"14.00\" fill=\"#000000\">True</text>\n</g>\n<!-- 2 -->\n<g id=\"node3\" class=\"node\">\n<title>2</title>\n<polygon fill=\"none\" stroke=\"#000000\" points=\"369.5,-365 265.5,-365 265.5,-297 369.5,-297 369.5,-365\"/>\n<text text-anchor=\"middle\" x=\"317.5\" y=\"-349.8\" font-family=\"Helvetica,sans-Serif\" font-size=\"14.00\" fill=\"#000000\">X[2] &lt;= 0.5</text>\n<text text-anchor=\"middle\" x=\"317.5\" y=\"-334.8\" font-family=\"Helvetica,sans-Serif\" font-size=\"14.00\" fill=\"#000000\">entropy = 1.0</text>\n<text text-anchor=\"middle\" x=\"317.5\" y=\"-319.8\" font-family=\"Helvetica,sans-Serif\" font-size=\"14.00\" fill=\"#000000\">samples = 10</text>\n<text text-anchor=\"middle\" x=\"317.5\" y=\"-304.8\" font-family=\"Helvetica,sans-Serif\" font-size=\"14.00\" fill=\"#000000\">value = [5, 5]</text>\n</g>\n<!-- 0&#45;&gt;2 -->\n<g id=\"edge2\" class=\"edge\">\n<title>0&#45;&gt;2</title>\n<path fill=\"none\" stroke=\"#000000\" d=\"M276.4737,-400.9465C281.5293,-392.3271 287.0247,-382.9579 292.3017,-373.9611\"/>\n<polygon fill=\"#000000\" stroke=\"#000000\" points=\"295.4411,-375.5265 297.4814,-365.13 289.4031,-371.985 295.4411,-375.5265\"/>\n<text text-anchor=\"middle\" x=\"303.786\" y=\"-385.622\" font-family=\"Helvetica,sans-Serif\" font-size=\"14.00\" fill=\"#000000\">False</text>\n</g>\n<!-- 3 -->\n<g id=\"node4\" class=\"node\">\n<title>3</title>\n<polygon fill=\"none\" stroke=\"#000000\" points=\"308.5,-261 190.5,-261 190.5,-193 308.5,-193 308.5,-261\"/>\n<text text-anchor=\"middle\" x=\"249.5\" y=\"-245.8\" font-family=\"Helvetica,sans-Serif\" font-size=\"14.00\" fill=\"#000000\">X[0] &lt;= 1.5</text>\n<text text-anchor=\"middle\" x=\"249.5\" y=\"-230.8\" font-family=\"Helvetica,sans-Serif\" font-size=\"14.00\" fill=\"#000000\">entropy = 0.722</text>\n<text text-anchor=\"middle\" x=\"249.5\" y=\"-215.8\" font-family=\"Helvetica,sans-Serif\" font-size=\"14.00\" fill=\"#000000\">samples = 5</text>\n<text text-anchor=\"middle\" x=\"249.5\" y=\"-200.8\" font-family=\"Helvetica,sans-Serif\" font-size=\"14.00\" fill=\"#000000\">value = [4, 1]</text>\n</g>\n<!-- 2&#45;&gt;3 -->\n<g id=\"edge3\" class=\"edge\">\n<title>2&#45;&gt;3</title>\n<path fill=\"none\" stroke=\"#000000\" d=\"M295.2343,-296.9465C289.5398,-288.2373 283.3448,-278.7626 277.4062,-269.6801\"/>\n<polygon fill=\"#000000\" stroke=\"#000000\" points=\"280.2177,-267.5843 271.8158,-261.13 274.3589,-271.4151 280.2177,-267.5843\"/>\n</g>\n<!-- 8 -->\n<g id=\"node9\" class=\"node\">\n<title>8</title>\n<polygon fill=\"none\" stroke=\"#000000\" points=\"444.5,-261 326.5,-261 326.5,-193 444.5,-193 444.5,-261\"/>\n<text text-anchor=\"middle\" x=\"385.5\" y=\"-245.8\" font-family=\"Helvetica,sans-Serif\" font-size=\"14.00\" fill=\"#000000\">X[3] &lt;= 0.5</text>\n<text text-anchor=\"middle\" x=\"385.5\" y=\"-230.8\" font-family=\"Helvetica,sans-Serif\" font-size=\"14.00\" fill=\"#000000\">entropy = 0.722</text>\n<text text-anchor=\"middle\" x=\"385.5\" y=\"-215.8\" font-family=\"Helvetica,sans-Serif\" font-size=\"14.00\" fill=\"#000000\">samples = 5</text>\n<text text-anchor=\"middle\" x=\"385.5\" y=\"-200.8\" font-family=\"Helvetica,sans-Serif\" font-size=\"14.00\" fill=\"#000000\">value = [1, 4]</text>\n</g>\n<!-- 2&#45;&gt;8 -->\n<g id=\"edge8\" class=\"edge\">\n<title>2&#45;&gt;8</title>\n<path fill=\"none\" stroke=\"#000000\" d=\"M339.7657,-296.9465C345.4602,-288.2373 351.6552,-278.7626 357.5938,-269.6801\"/>\n<polygon fill=\"#000000\" stroke=\"#000000\" points=\"360.6411,-271.4151 363.1842,-261.13 354.7823,-267.5843 360.6411,-271.4151\"/>\n</g>\n<!-- 4 -->\n<g id=\"node5\" class=\"node\">\n<title>4</title>\n<polygon fill=\"none\" stroke=\"#000000\" points=\"186,-157 85,-157 85,-89 186,-89 186,-157\"/>\n<text text-anchor=\"middle\" x=\"135.5\" y=\"-141.8\" font-family=\"Helvetica,sans-Serif\" font-size=\"14.00\" fill=\"#000000\">X[3] &lt;= 0.5</text>\n<text text-anchor=\"middle\" x=\"135.5\" y=\"-126.8\" font-family=\"Helvetica,sans-Serif\" font-size=\"14.00\" fill=\"#000000\">entropy = 1.0</text>\n<text text-anchor=\"middle\" x=\"135.5\" y=\"-111.8\" font-family=\"Helvetica,sans-Serif\" font-size=\"14.00\" fill=\"#000000\">samples = 2</text>\n<text text-anchor=\"middle\" x=\"135.5\" y=\"-96.8\" font-family=\"Helvetica,sans-Serif\" font-size=\"14.00\" fill=\"#000000\">value = [1, 1]</text>\n</g>\n<!-- 3&#45;&gt;4 -->\n<g id=\"edge4\" class=\"edge\">\n<title>3&#45;&gt;4</title>\n<path fill=\"none\" stroke=\"#000000\" d=\"M212.1721,-192.9465C202.035,-183.6986 190.9517,-173.5876 180.4417,-163.9994\"/>\n<polygon fill=\"#000000\" stroke=\"#000000\" points=\"182.6583,-161.284 172.9117,-157.13 177.9405,-166.4553 182.6583,-161.284\"/>\n</g>\n<!-- 7 -->\n<g id=\"node8\" class=\"node\">\n<title>7</title>\n<polygon fill=\"none\" stroke=\"#000000\" points=\"305,-149.5 204,-149.5 204,-96.5 305,-96.5 305,-149.5\"/>\n<text text-anchor=\"middle\" x=\"254.5\" y=\"-134.3\" font-family=\"Helvetica,sans-Serif\" font-size=\"14.00\" fill=\"#000000\">entropy = 0.0</text>\n<text text-anchor=\"middle\" x=\"254.5\" y=\"-119.3\" font-family=\"Helvetica,sans-Serif\" font-size=\"14.00\" fill=\"#000000\">samples = 3</text>\n<text text-anchor=\"middle\" x=\"254.5\" y=\"-104.3\" font-family=\"Helvetica,sans-Serif\" font-size=\"14.00\" fill=\"#000000\">value = [3, 0]</text>\n</g>\n<!-- 3&#45;&gt;7 -->\n<g id=\"edge7\" class=\"edge\">\n<title>3&#45;&gt;7</title>\n<path fill=\"none\" stroke=\"#000000\" d=\"M251.1372,-192.9465C251.6509,-182.2621 252.2199,-170.4254 252.7416,-159.5742\"/>\n<polygon fill=\"#000000\" stroke=\"#000000\" points=\"256.2396,-159.6987 253.2239,-149.5422 249.2477,-159.3625 256.2396,-159.6987\"/>\n</g>\n<!-- 5 -->\n<g id=\"node6\" class=\"node\">\n<title>5</title>\n<polygon fill=\"none\" stroke=\"#000000\" points=\"101,-53 0,-53 0,0 101,0 101,-53\"/>\n<text text-anchor=\"middle\" x=\"50.5\" y=\"-37.8\" font-family=\"Helvetica,sans-Serif\" font-size=\"14.00\" fill=\"#000000\">entropy = 0.0</text>\n<text text-anchor=\"middle\" x=\"50.5\" y=\"-22.8\" font-family=\"Helvetica,sans-Serif\" font-size=\"14.00\" fill=\"#000000\">samples = 1</text>\n<text text-anchor=\"middle\" x=\"50.5\" y=\"-7.8\" font-family=\"Helvetica,sans-Serif\" font-size=\"14.00\" fill=\"#000000\">value = [1, 0]</text>\n</g>\n<!-- 4&#45;&gt;5 -->\n<g id=\"edge5\" class=\"edge\">\n<title>4&#45;&gt;5</title>\n<path fill=\"none\" stroke=\"#000000\" d=\"M105.5322,-88.9777C97.5471,-79.9123 88.9138,-70.111 80.9056,-61.0192\"/>\n<polygon fill=\"#000000\" stroke=\"#000000\" points=\"83.2971,-58.4391 74.0608,-53.2485 78.0442,-63.066 83.2971,-58.4391\"/>\n</g>\n<!-- 6 -->\n<g id=\"node7\" class=\"node\">\n<title>6</title>\n<polygon fill=\"none\" stroke=\"#000000\" points=\"220,-53 119,-53 119,0 220,0 220,-53\"/>\n<text text-anchor=\"middle\" x=\"169.5\" y=\"-37.8\" font-family=\"Helvetica,sans-Serif\" font-size=\"14.00\" fill=\"#000000\">entropy = 0.0</text>\n<text text-anchor=\"middle\" x=\"169.5\" y=\"-22.8\" font-family=\"Helvetica,sans-Serif\" font-size=\"14.00\" fill=\"#000000\">samples = 1</text>\n<text text-anchor=\"middle\" x=\"169.5\" y=\"-7.8\" font-family=\"Helvetica,sans-Serif\" font-size=\"14.00\" fill=\"#000000\">value = [0, 1]</text>\n</g>\n<!-- 4&#45;&gt;6 -->\n<g id=\"edge6\" class=\"edge\">\n<title>4&#45;&gt;6</title>\n<path fill=\"none\" stroke=\"#000000\" d=\"M147.4871,-88.9777C150.4553,-80.5533 153.6474,-71.4934 156.6547,-62.9579\"/>\n<polygon fill=\"#000000\" stroke=\"#000000\" points=\"160.0536,-63.8433 160.0757,-53.2485 153.4514,-61.5171 160.0536,-63.8433\"/>\n</g>\n<!-- 9 -->\n<g id=\"node10\" class=\"node\">\n<title>9</title>\n<polygon fill=\"none\" stroke=\"#000000\" points=\"432,-157 331,-157 331,-89 432,-89 432,-157\"/>\n<text text-anchor=\"middle\" x=\"381.5\" y=\"-141.8\" font-family=\"Helvetica,sans-Serif\" font-size=\"14.00\" fill=\"#000000\">X[0] &lt;= 1.5</text>\n<text text-anchor=\"middle\" x=\"381.5\" y=\"-126.8\" font-family=\"Helvetica,sans-Serif\" font-size=\"14.00\" fill=\"#000000\">entropy = 1.0</text>\n<text text-anchor=\"middle\" x=\"381.5\" y=\"-111.8\" font-family=\"Helvetica,sans-Serif\" font-size=\"14.00\" fill=\"#000000\">samples = 2</text>\n<text text-anchor=\"middle\" x=\"381.5\" y=\"-96.8\" font-family=\"Helvetica,sans-Serif\" font-size=\"14.00\" fill=\"#000000\">value = [1, 1]</text>\n</g>\n<!-- 8&#45;&gt;9 -->\n<g id=\"edge9\" class=\"edge\">\n<title>8&#45;&gt;9</title>\n<path fill=\"none\" stroke=\"#000000\" d=\"M384.1903,-192.9465C383.876,-184.776 383.5358,-175.9318 383.2065,-167.3697\"/>\n<polygon fill=\"#000000\" stroke=\"#000000\" points=\"386.6945,-166.9881 382.8127,-157.13 379.6997,-167.2572 386.6945,-166.9881\"/>\n</g>\n<!-- 12 -->\n<g id=\"node13\" class=\"node\">\n<title>12</title>\n<polygon fill=\"none\" stroke=\"#000000\" points=\"551,-149.5 450,-149.5 450,-96.5 551,-96.5 551,-149.5\"/>\n<text text-anchor=\"middle\" x=\"500.5\" y=\"-134.3\" font-family=\"Helvetica,sans-Serif\" font-size=\"14.00\" fill=\"#000000\">entropy = 0.0</text>\n<text text-anchor=\"middle\" x=\"500.5\" y=\"-119.3\" font-family=\"Helvetica,sans-Serif\" font-size=\"14.00\" fill=\"#000000\">samples = 3</text>\n<text text-anchor=\"middle\" x=\"500.5\" y=\"-104.3\" font-family=\"Helvetica,sans-Serif\" font-size=\"14.00\" fill=\"#000000\">value = [0, 3]</text>\n</g>\n<!-- 8&#45;&gt;12 -->\n<g id=\"edge12\" class=\"edge\">\n<title>8&#45;&gt;12</title>\n<path fill=\"none\" stroke=\"#000000\" d=\"M423.1553,-192.9465C436.1878,-181.1606 450.7706,-167.9726 463.7311,-156.2519\"/>\n<polygon fill=\"#000000\" stroke=\"#000000\" points=\"466.0812,-158.8456 471.1505,-149.5422 461.386,-153.6537 466.0812,-158.8456\"/>\n</g>\n<!-- 10 -->\n<g id=\"node11\" class=\"node\">\n<title>10</title>\n<polygon fill=\"none\" stroke=\"#000000\" points=\"398,-53 297,-53 297,0 398,0 398,-53\"/>\n<text text-anchor=\"middle\" x=\"347.5\" y=\"-37.8\" font-family=\"Helvetica,sans-Serif\" font-size=\"14.00\" fill=\"#000000\">entropy = 0.0</text>\n<text text-anchor=\"middle\" x=\"347.5\" y=\"-22.8\" font-family=\"Helvetica,sans-Serif\" font-size=\"14.00\" fill=\"#000000\">samples = 1</text>\n<text text-anchor=\"middle\" x=\"347.5\" y=\"-7.8\" font-family=\"Helvetica,sans-Serif\" font-size=\"14.00\" fill=\"#000000\">value = [1, 0]</text>\n</g>\n<!-- 9&#45;&gt;10 -->\n<g id=\"edge10\" class=\"edge\">\n<title>9&#45;&gt;10</title>\n<path fill=\"none\" stroke=\"#000000\" d=\"M369.5129,-88.9777C366.5447,-80.5533 363.3526,-71.4934 360.3453,-62.9579\"/>\n<polygon fill=\"#000000\" stroke=\"#000000\" points=\"363.5486,-61.5171 356.9243,-53.2485 356.9464,-63.8433 363.5486,-61.5171\"/>\n</g>\n<!-- 11 -->\n<g id=\"node12\" class=\"node\">\n<title>11</title>\n<polygon fill=\"none\" stroke=\"#000000\" points=\"517,-53 416,-53 416,0 517,0 517,-53\"/>\n<text text-anchor=\"middle\" x=\"466.5\" y=\"-37.8\" font-family=\"Helvetica,sans-Serif\" font-size=\"14.00\" fill=\"#000000\">entropy = 0.0</text>\n<text text-anchor=\"middle\" x=\"466.5\" y=\"-22.8\" font-family=\"Helvetica,sans-Serif\" font-size=\"14.00\" fill=\"#000000\">samples = 1</text>\n<text text-anchor=\"middle\" x=\"466.5\" y=\"-7.8\" font-family=\"Helvetica,sans-Serif\" font-size=\"14.00\" fill=\"#000000\">value = [0, 1]</text>\n</g>\n<!-- 9&#45;&gt;11 -->\n<g id=\"edge11\" class=\"edge\">\n<title>9&#45;&gt;11</title>\n<path fill=\"none\" stroke=\"#000000\" d=\"M411.4678,-88.9777C419.4529,-79.9123 428.0862,-70.111 436.0944,-61.0192\"/>\n<polygon fill=\"#000000\" stroke=\"#000000\" points=\"438.9558,-63.066 442.9392,-53.2485 433.7029,-58.4391 438.9558,-63.066\"/>\n</g>\n</g>\n</svg>\n"
          },
          "metadata": {},
          "execution_count": 42
        }
      ],
      "metadata": {
        "colab": {
          "base_uri": "https://localhost:8080/",
          "height": 657
        },
        "id": "haC9yxI7h8Va",
        "outputId": "c3786b06-ed99-41a2-f6fb-680407b11733"
      }
    },
    {
      "cell_type": "code",
      "execution_count": null,
      "source": [
        "# From the encoded data we can decifer the following:\n",
        "# Outlook:     Sunny-2, Overcast-0, Rain-1\n",
        "# Temperature: Hot-1, Mild-2, Cool-0\n",
        "# Humidity:    High-0, Normal-1\n",
        "# Wind:        Weak-1, Strong-0\n",
        "# Play:        No-0, Yes-1\n",
        "\n",
        "# Using Gini\n",
        "\n",
        "gini_predicted_1 = clf_gini.predict([(2, 0, 0, 1)]) # Sunny, Cool, High, Weak\n",
        "gini_predicted_2 = clf_gini.predict([(1, 1, 0, 1)]) # Rain, Hot, High, Weak\n",
        "\n",
        "print(\"Using gini as impurity index: \")\n",
        "print(gini_predicted_1)\n",
        "print(gini_predicted_2)\n",
        "print()\n",
        "\n",
        "# Usig Information gain\n",
        "\n",
        "ig_predicted_1 = clf_ig.predict([(2, 0, 0, 1)]) # Sunny, Cool, High, Weak\n",
        "ig_predicted_2 = clf_ig.predict([(1, 1, 0, 1)]) # Rain, Hot, High, Weak\n",
        "\n",
        "print(\"Using information gain as impurity index: \")\n",
        "print(ig_predicted_1)\n",
        "print(ig_predicted_2)"
      ],
      "outputs": [
        {
          "output_type": "error",
          "ename": "NameError",
          "evalue": "name 'clf_gini' is not defined",
          "traceback": [
            "\u001b[0;31m---------------------------------------------------------------------------\u001b[0m",
            "\u001b[0;31mNameError\u001b[0m                                 Traceback (most recent call last)",
            "\u001b[0;32m<ipython-input-1-304e915366f1>\u001b[0m in \u001b[0;36m<module>\u001b[0;34m\u001b[0m\n\u001b[1;32m      8\u001b[0m \u001b[0;31m# Using Gini\u001b[0m\u001b[0;34m\u001b[0m\u001b[0;34m\u001b[0m\u001b[0;34m\u001b[0m\u001b[0m\n\u001b[1;32m      9\u001b[0m \u001b[0;34m\u001b[0m\u001b[0m\n\u001b[0;32m---> 10\u001b[0;31m \u001b[0mgini_predicted_1\u001b[0m \u001b[0;34m=\u001b[0m \u001b[0mclf_gini\u001b[0m\u001b[0;34m.\u001b[0m\u001b[0mpredict\u001b[0m\u001b[0;34m(\u001b[0m\u001b[0;34m[\u001b[0m\u001b[0;34m(\u001b[0m\u001b[0;36m2\u001b[0m\u001b[0;34m,\u001b[0m \u001b[0;36m0\u001b[0m\u001b[0;34m,\u001b[0m \u001b[0;36m0\u001b[0m\u001b[0;34m,\u001b[0m \u001b[0;36m1\u001b[0m\u001b[0;34m)\u001b[0m\u001b[0;34m]\u001b[0m\u001b[0;34m)\u001b[0m \u001b[0;31m# Sunny, Cool, High, Weak\u001b[0m\u001b[0;34m\u001b[0m\u001b[0;34m\u001b[0m\u001b[0m\n\u001b[0m\u001b[1;32m     11\u001b[0m \u001b[0mgini_predicted_2\u001b[0m \u001b[0;34m=\u001b[0m \u001b[0mclf_gini\u001b[0m\u001b[0;34m.\u001b[0m\u001b[0mpredict\u001b[0m\u001b[0;34m(\u001b[0m\u001b[0;34m[\u001b[0m\u001b[0;34m(\u001b[0m\u001b[0;36m1\u001b[0m\u001b[0;34m,\u001b[0m \u001b[0;36m1\u001b[0m\u001b[0;34m,\u001b[0m \u001b[0;36m0\u001b[0m\u001b[0;34m,\u001b[0m \u001b[0;36m1\u001b[0m\u001b[0;34m)\u001b[0m\u001b[0;34m]\u001b[0m\u001b[0;34m)\u001b[0m \u001b[0;31m# Rain, Hot, High, Weak\u001b[0m\u001b[0;34m\u001b[0m\u001b[0;34m\u001b[0m\u001b[0m\n\u001b[1;32m     12\u001b[0m \u001b[0;34m\u001b[0m\u001b[0m\n",
            "\u001b[0;31mNameError\u001b[0m: name 'clf_gini' is not defined"
          ]
        }
      ],
      "metadata": {
        "colab": {
          "base_uri": "https://localhost:8080/"
        },
        "id": "mf4dk-QlY8P8",
        "outputId": "d6dff5bb-4e31-4803-bb9a-ed3de3a97a4c"
      }
    },
    {
      "cell_type": "code",
      "execution_count": null,
      "source": [
        "training_data = data\n",
        "testing_data = data\n",
        "\n",
        "# This function calculates the entropy of the whole dataset\n",
        "def find_dataset_entropy(train_data, label, class_items):\n",
        "    # Find the total number of rows\n",
        "    rows = train_data.shape[0]\n",
        "    # Resultant entropy to be returned\n",
        "    entropy = 0\n",
        "    \n",
        "    # For each class variable (Yes/No), Calculates its respective entropy\n",
        "    for item in class_items:\n",
        "        # Number of times a particual vaiable appears in the respective column\n",
        "        cur_item_count = train_data[train_data[label] == item].shape[0]\n",
        "        # Entropy of the current item\n",
        "        cur_item_entropy = - (cur_item_count/rows)*np.log2(cur_item_count/rows) \n",
        "        # Add it to our entropy to be returned\n",
        "        entropy += cur_item_entropy\n",
        "    \n",
        "    # Return the resultant entropy\n",
        "    return entropy \n",
        "\n",
        "# Calculating entropy of a filtered dataset based on a specific feature\n",
        "def calculate_feature_entropy(feature_data, label, class_items):\n",
        "    # feature_data contains rows that have a specific value of a feature\n",
        "    # class_count will basically contain the total number of raws of the \n",
        "    # current dataframe\n",
        "    class_count = feature_data.shape[0]\n",
        "    entropy = 0\n",
        "    \n",
        "    for item in class_items:\n",
        "        # Number of times a particular item appears \n",
        "        cur_item_count = feature_data[feature_data[label] == item].shape[0]\n",
        "    \n",
        "        cur_item_entropy = 0\n",
        "        if cur_item_count != 0: # To avoid divide by zero exception\n",
        "            cur_item_entropy = - (cur_item_count/class_count) * np.log2(cur_item_count/class_count) \n",
        "        \n",
        "        # Add it to out entropy to be returned\n",
        "        entropy += cur_item_entropy\n",
        "        \n",
        "    # Return the resultant entropy\n",
        "    return entropy\n",
        "\n",
        "# This funciton would calculate information gain for a particular feature\n",
        "def calculate_information_gain(feature_name, train_data, label, class_items):\n",
        "    # This is a list of unique items pertaining to a specific feature\n",
        "    items_list = train_data[feature_name].unique()\n",
        "    rows = train_data.shape[0]\n",
        "    feature_information = 0.0\n",
        "    \n",
        "    for item in items_list:\n",
        "        # This will fetch all the rows from the train data where feature_name = item\n",
        "        item_data = train_data[train_data[feature_name] == item]\n",
        "        # Number of times a particular item appears in the train data\n",
        "        item_count = item_data.shape[0]\n",
        "        # Calculating the entropy of a specific item\n",
        "        item_entropy = calculate_feature_entropy(item_data, label, class_items)\n",
        "        item_probability = item_count/rows\n",
        "        feature_information += item_probability * item_entropy\n",
        "        \n",
        "    # Entropy a feature = total entropy of the dataset - information of that feature \n",
        "    return find_dataset_entropy(train_data, label, class_items) - feature_information\n",
        "\n",
        "# Caculates the most informative feature ie the feature with highest information gain\n",
        "def most_informative_feature(train_data, label, class_items):\n",
        "    # This list contains the features on which our output would depend\n",
        "    feature_list = train_data.columns.drop(label)\n",
        "    # Initialize the variables \n",
        "    max_info_gain = -1\n",
        "    max_info_feature = None\n",
        "    \n",
        "    for feature in feature_list:  \n",
        "        # For the current feature calculate the information gain\n",
        "        feature_info_gain = calculate_information_gain(feature, train_data, label, class_items)\n",
        "        # If the maximum informatino gain until now is smaller than the current gain\n",
        "        if max_info_gain < feature_info_gain:\n",
        "            # Update the maximum information gain with the current gain\n",
        "            max_info_gain = feature_info_gain\n",
        "            # Update the resultant feature to be returned\n",
        "            max_info_feature = feature\n",
        "    \n",
        "    # Return the feature with max information gain\n",
        "    return max_info_feature\n",
        "\n",
        "# Once we have found current root of a tree this method would help in adding\n",
        "# a node to the tree\n",
        "def generate_sub_tree(feature_name, train_data, label, class_items):\n",
        "    # feature_name is the name of the feature that we want to add to the tree\n",
        "    featere_count_dict = train_data[feature_name].value_counts(sort=False)\n",
        "    tree = {}\n",
        "    \n",
        "    for feature, count in featere_count_dict.iteritems():\n",
        "        # For each (feature, count) pair in our dictionary\n",
        "        # feature_data is the dataset containing the value of the feature_name as the \n",
        "        # current feaure\n",
        "        feature_data = train_data[train_data[feature_name] == feature]\n",
        "        \n",
        "        # A flag to keep record if its assigned to a node \n",
        "        # In other words to check if the current feature value is a pure class or not\n",
        "        assigned = False\n",
        "        for item in class_items:\n",
        "            # This counts the number of times item class appears in our dataset for a \n",
        "            # specific feature\n",
        "            cur_class_count = feature_data[feature_data[label] == item].shape[0]\n",
        "\n",
        "            # Now if the count of current class is same as the total count, \n",
        "            # this means that it is a pure class thus that feature in out tree can be assigned \n",
        "            # value as this item\n",
        "            if cur_class_count == count:\n",
        "                # Being pure class assign item as the value for this feature in our subtree\n",
        "                tree[feature] = item\n",
        "                # Remove the rows with this feature value\n",
        "                train_data = train_data[train_data[feature_name] != feature]\n",
        "                # Mark the flag variable\n",
        "                assigned = True\n",
        "        \n",
        "        # If the node is not yet assigned so that feature in our dataset is still an impure class\n",
        "        if not assigned:\n",
        "            tree[feature] = \"?\"\n",
        "            \n",
        "    # return the subtree formed and train_data\n",
        "    return tree, train_data\n",
        "\n",
        "# Generation of tree: A recursive function to create decision tree using the above \n",
        "# defined functinos\n",
        "def generate_tree(root, prev_feature, train_data, label, class_items):\n",
        "    # If there exists some dataset\n",
        "    if train_data.shape[0] != 0:\n",
        "        # Find the most informative feature\n",
        "        max_info_feature = most_informative_feature(train_data, label, class_items)\n",
        "        # Getting in the tree node and the updated dataset\n",
        "        tree, train_data = generate_sub_tree(max_info_feature, train_data, label, class_items)\n",
        "        next_root = None\n",
        "        \n",
        "        # Add the node with branches into the tree\n",
        "        if prev_feature != None:\n",
        "            # If its not none then add it to the intermediate node of our tree \n",
        "            root[prev_feature] = dict()\n",
        "            root[prev_feature][max_info_feature] = tree\n",
        "            next_root = root[prev_feature][max_info_feature]\n",
        "        else:\n",
        "            # If the previous feature value is none that means we need to \n",
        "            # add to the root of the tree\n",
        "            root[max_info_feature] = tree\n",
        "            next_root = root[max_info_feature]\n",
        "        \n",
        "        # Iterate on the tree node \n",
        "        for node, branch in list(next_root.items()):\n",
        "            # If a branch is ? then it means that it is expandable\n",
        "            if branch == \"?\":\n",
        "                # Done using the updated dataset\n",
        "                feature_value_data = train_data[train_data[max_info_feature] == node]\n",
        "                # Recursively calling this function with the updated dataset to create the \n",
        "                # subtrees\n",
        "                generate_tree(next_root, node, feature_value_data, label, class_items)\n",
        "\n",
        "# This function is responsible for finding the unique classes of the label\n",
        "# and starting the algorithm\n",
        "def id3(training_data, label):\n",
        "    # Create a copy of the training data(Dataset)\n",
        "    train_data = training_data.copy()\n",
        "    # Initializing the tree which will be updated\n",
        "    tree = {}\n",
        "    # Fetching the unique classes for a label which is PlayTennis in our case\n",
        "    class_items = train_data[label].unique()\n",
        "    # Generate the tree recursively\n",
        "    generate_tree(tree, None, training_data, label, class_items)\n",
        "    \n",
        "    return tree\n",
        "\n",
        "# Predicting from the tree generated\n",
        "# We will recursively traverse the nested dictionary until any leaf node (= class) is found\n",
        "# The key of the dictionary is a feature name\n",
        "def predict(tree, instance):\n",
        "    if not isinstance(tree, dict):\n",
        "        return tree\n",
        "    else:\n",
        "        root_node = next(iter(tree))\n",
        "        feature_value = instance[root_node]\n",
        "        if feature_value in tree[root_node]:\n",
        "            return predict(tree[root_node][feature_value], instance)\n",
        "        else:\n",
        "            return None\n",
        "\n",
        "tree = id3(training_data, 'PlayTennis')\n",
        "tree\n"
      ],
      "outputs": [
        {
          "output_type": "execute_result",
          "data": {
            "text/plain": [
              "{'Outlook': {'Overcast': 'Yes',\n",
              "  'Rain': {'Wind': {'Strong': 'No', 'Weak': 'Yes'}},\n",
              "  'Sunny': {'Humidity': {'High': 'No', 'Normal': 'Yes'}}}}"
            ]
          },
          "metadata": {},
          "execution_count": 47
        }
      ],
      "metadata": {
        "colab": {
          "base_uri": "https://localhost:8080/"
        },
        "id": "pYboCO09_GQ9",
        "outputId": "df7b11cc-10ba-4ac2-cae9-8e2678b6547f"
      }
    },
    {
      "cell_type": "code",
      "execution_count": null,
      "source": [
        "predict(tree, {\"Outlook\": \"Sunny\", \"Temerature\": \"Cool\", \"Humidity\": \"High\", \"Wind\": \"Weak\"})"
      ],
      "outputs": [
        {
          "output_type": "execute_result",
          "data": {
            "text/plain": [
              "'No'"
            ],
            "application/vnd.google.colaboratory.intrinsic+json": {
              "type": "string"
            }
          },
          "metadata": {},
          "execution_count": 45
        }
      ],
      "metadata": {
        "colab": {
          "base_uri": "https://localhost:8080/",
          "height": 35
        },
        "id": "52dNB2XN6T6O",
        "outputId": "c9d13b91-b1a3-4560-a295-bc428251e356"
      }
    },
    {
      "cell_type": "code",
      "execution_count": null,
      "source": [
        "predict(tree, {\"Outlook\": \"Rain\", \"Temerature\": \"Hot\", \"Humidity\": \"High\", \"Wind\": \"Weak\"})"
      ],
      "outputs": [
        {
          "output_type": "execute_result",
          "data": {
            "text/plain": [
              "'Yes'"
            ],
            "application/vnd.google.colaboratory.intrinsic+json": {
              "type": "string"
            }
          },
          "metadata": {},
          "execution_count": 46
        }
      ],
      "metadata": {
        "colab": {
          "base_uri": "https://localhost:8080/",
          "height": 35
        },
        "id": "2eMyokj-7dda",
        "outputId": "9fe741d2-1d97-44ea-efc3-c26793d54c64"
      }
    }
  ]
}