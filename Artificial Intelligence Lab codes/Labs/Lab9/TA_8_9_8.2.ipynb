{
  "nbformat": 4,
  "nbformat_minor": 2,
  "metadata": {
    "kernelspec": {
      "name": "python3",
      "display_name": "Python 3.9.6 64-bit"
    },
    "language_info": {
      "codemirror_mode": {
        "name": "ipython",
        "version": 3
      },
      "file_extension": ".py",
      "mimetype": "text/x-python",
      "name": "python",
      "nbconvert_exporter": "python",
      "pygments_lexer": "ipython3",
      "version": "3.9.6"
    },
    "colab": {
      "name": "8_2.ipynb",
      "provenance": [],
      "collapsed_sections": []
    },
    "interpreter": {
      "hash": "aee8b7b246df8f9039afb4144a1f6fd8d2ca17a180786b69acc140d282b71a49"
    }
  },
  "cells": [
    {
      "cell_type": "markdown",
      "source": [
        "# Reinfocement Learning  Example :PathFinder Bot \n",
        "\n",
        "Suppose we have 5 rooms A to E, in a building connected by certain doors :\n",
        "We  can  consider  outside  of  the  building  as  one  big  room  say  F  to  cover the building. \n",
        "There are two doors lead to the building from F, that is through room B and room E. \n",
        "\n",
        "\n",
        "![title](RL_problem.png)\n",
        "\n",
        "Which path agent should choose??? \n",
        "\n"
      ],
      "metadata": {
        "id": "4fs0s9aaUtUK"
      }
    },
    {
      "cell_type": "markdown",
      "source": [
        "# Step 1: Modeling the environment- \n",
        "\n",
        "- Represent the rooms by graph, \n",
        "- Each room as a vertex (or node) and \n",
        "- Each door as an edge (or link). \n",
        "- Goal room is the node F \n",
        "![image.png](RL1.png)\n",
        "\n",
        "\n"
      ],
      "metadata": {
        "id": "4VYpD-ZoUtUM"
      }
    },
    {
      "cell_type": "markdown",
      "source": [
        "Goal :  Outside the building : Node F\n",
        "Assign Reward Value to each room  \n",
        "\n",
        "State:  Each room (including outside building )\n",
        "\n",
        "Action : Agent’s Movement from 1 room to next room\n",
        "\n",
        "Initial state : C (random )\n",
        "\n",
        "Reward: Goal Node :highest reward (100)  rest – 0; \n",
        "\n",
        "State Diagram \n",
        "![image.png](RL2.png)\n",
        "\n",
        "\n",
        "![title](RL_image.png)"
      ],
      "metadata": {
        "id": "C4PrJJLLUtUM"
      }
    },
    {
      "cell_type": "code",
      "execution_count": 27,
      "source": [
        "import numpy as np\n",
        "import math"
      ],
      "outputs": [],
      "metadata": {
        "id": "92ZGnxPBUtUN"
      }
    },
    {
      "cell_type": "code",
      "execution_count": 28,
      "source": [
        "# R matrix\n",
        "# In this case if there is no door(edge) between 2 rooms(nodes)\n",
        "# the reward assigned is negitive infinity if there exist the room(edge) and \n",
        "# destination room which is denoted by the horizontal axis is the goal then \n",
        "# the reward assigned is 100 else 0\n",
        "inf = -math.inf\n",
        "\n",
        "Rewards = np.matrix([[inf, inf, inf, inf, 0, inf], \n",
        "                     [inf, inf, inf, 0, inf, 100], \n",
        "                     [inf, inf, inf, 0, inf, inf], \n",
        "                     [inf, 0, 0, inf, 0, inf], \n",
        "                     [0, inf, inf, 0, inf, 100],\n",
        "                     [inf, 0, inf, inf, 0, 100]])\n",
        "\n",
        "Rewards"
      ],
      "outputs": [
        {
          "output_type": "execute_result",
          "data": {
            "text/plain": [
              "matrix([[-inf, -inf, -inf, -inf,   0., -inf],\n",
              "        [-inf, -inf, -inf,   0., -inf, 100.],\n",
              "        [-inf, -inf, -inf,   0., -inf, -inf],\n",
              "        [-inf,   0.,   0., -inf,   0., -inf],\n",
              "        [  0., -inf, -inf,   0., -inf, 100.],\n",
              "        [-inf,   0., -inf, -inf,   0., 100.]])"
            ]
          },
          "metadata": {},
          "execution_count": 28
        }
      ],
      "metadata": {
        "id": "MrELJsg5UtUN",
        "colab": {
          "base_uri": "https://localhost:8080/"
        },
        "outputId": "96952b71-0697-45cc-d28d-40f3e24a84f1"
      }
    },
    {
      "cell_type": "code",
      "execution_count": 29,
      "source": [
        "# Q matrix: zero matrix  of size same as R matrix\n",
        "\n",
        "# Reshaping the Q matrix with the dimensions of the reward matrix\n",
        "Q = np.zeros((Rewards.shape[0], Rewards.shape[1]))\n",
        "\n",
        "Q"
      ],
      "outputs": [
        {
          "output_type": "execute_result",
          "data": {
            "text/plain": [
              "array([[0., 0., 0., 0., 0., 0.],\n",
              "       [0., 0., 0., 0., 0., 0.],\n",
              "       [0., 0., 0., 0., 0., 0.],\n",
              "       [0., 0., 0., 0., 0., 0.],\n",
              "       [0., 0., 0., 0., 0., 0.],\n",
              "       [0., 0., 0., 0., 0., 0.]])"
            ]
          },
          "metadata": {},
          "execution_count": 29
        }
      ],
      "metadata": {
        "id": "SoC33jioUtUO",
        "colab": {
          "base_uri": "https://localhost:8080/"
        },
        "outputId": "16603784-8faf-412b-dd0d-cf2cdd7730a6"
      }
    },
    {
      "cell_type": "code",
      "execution_count": 30,
      "source": [
        "# Gamma (learning parameter).\n",
        "gamma = 0.8"
      ],
      "outputs": [],
      "metadata": {
        "id": "rh9-vccSUtUP"
      }
    },
    {
      "cell_type": "code",
      "execution_count": 31,
      "source": [
        "import random\n",
        "\n",
        "# Initial state. (Usually to be chosen at random)\n",
        "# Write your Code to choose random State\n",
        "\n",
        "# We have 5 possible states as follows\n",
        "states = [0, 1, 2, 3, 4, 5]\n",
        "\n",
        "# Initial state is choosen at random from the above states\n",
        "# initial_state = random.randint(0,len(states)-1)\n",
        "\n",
        "# initial_state\n",
        "\n",
        "\n"
      ],
      "outputs": [],
      "metadata": {
        "id": "HKcj9jfpUtUP",
        "colab": {
          "base_uri": "https://localhost:8080/"
        },
        "outputId": "096229ad-0d65-4d29-dd09-cd8b3905fb49"
      }
    },
    {
      "cell_type": "code",
      "execution_count": 32,
      "source": [
        "# This function returns all available actions in the state given as an argument\n",
        "def available_actions(state):\n",
        "    current_state_row = Rewards[state,]\n",
        "    av_act = np.where(current_state_row >= 0)[1]\n",
        "    return av_act"
      ],
      "outputs": [],
      "metadata": {
        "id": "inEcrplNUtUP"
      }
    },
    {
      "cell_type": "code",
      "execution_count": 33,
      "source": [
        "# Get available actions in the current state\n",
        "available_act = available_actions(initial_state) "
      ],
      "outputs": [],
      "metadata": {
        "id": "V5P8hWERUtUQ"
      }
    },
    {
      "cell_type": "code",
      "execution_count": 34,
      "source": [
        "# This function chooses at random which action to be performed within the range \n",
        "# of all the available actions.\n",
        "def sample_next_action(available_actions_range):\n",
        "    next_action = int(np.random.choice(available_act,1))\n",
        "    return next_action"
      ],
      "outputs": [],
      "metadata": {
        "id": "hjU3aQTgUtUQ"
      }
    },
    {
      "cell_type": "code",
      "execution_count": 35,
      "source": [
        "# Sample next action to be performed\n",
        "action = sample_next_action(available_act)"
      ],
      "outputs": [],
      "metadata": {
        "id": "5FfDObSgUtUQ"
      }
    },
    {
      "cell_type": "code",
      "execution_count": 36,
      "source": [
        "# This function updates the Q matrix according to the path selected and the Q \n",
        "# learning algorithm\n",
        "def update(current_state, action, gamma):\n",
        "    \n",
        "    max_index = np.where(Q[action,] == np.max(Q[action,]))[0]\n",
        "\n",
        "    if max_index.shape[0] > 1:\n",
        "        max_index = int(np.random.choice(max_index, size = 1))\n",
        "    else:\n",
        "        max_index = int(max_index)\n",
        "    \n",
        "    # Max_value provides the most optimal choice for a given next state\n",
        "    # Next state is action and max_index is the index providing max value for that state\n",
        "    max_value = Q[action, max_index]\n",
        "    \n",
        "    # Q learning formula\n",
        "    Q[current_state, action] = Rewards[current_state, action] + gamma * max_value\n",
        "\n",
        "# Update Q matrix\n",
        "update(initial_state,action,gamma)"
      ],
      "outputs": [],
      "metadata": {
        "id": "YLGugZ2SUtUQ"
      }
    },
    {
      "cell_type": "code",
      "execution_count": 37,
      "source": [
        "#-------------------------------------------------------------------------------\n",
        "# Training\n",
        "\n",
        "# Train over 10 000 iterations. (Re-iterate the process above).\n",
        "for i in range(10000):\n",
        "    current_state = np.random.randint(0, int(Q.shape[0]))\n",
        "    available_act = available_actions(current_state) \n",
        "    action = sample_next_action(available_act)\n",
        "    score= update(current_state,action,gamma)\n",
        "\n",
        "    # The \"trained\" Q matrix\n",
        "print(\"The Trained Q matrix:\")\n",
        "print(Q)\n",
        "\n",
        "# personal choice to normalize the matrix or not\n",
        "\n",
        "# Normalize the \"trained\" Q matrix\n",
        "# print(\"Trained Normalized Q matrix:\")\n",
        "# Q_nor=Q/np.max(Q)\n",
        "# print(Q_nor), i"
      ],
      "outputs": [
        {
          "output_type": "stream",
          "name": "stdout",
          "text": [
            "The Trained Q matrix:\n",
            "[[  0.   0.   0.   0. 400.   0.]\n",
            " [  0.   0.   0. 320.   0. 500.]\n",
            " [  0.   0.   0. 320.   0.   0.]\n",
            " [  0. 400. 256.   0. 400.   0.]\n",
            " [320.   0.   0. 320.   0. 500.]\n",
            " [  0. 400.   0.   0. 400. 500.]]\n"
          ]
        }
      ],
      "metadata": {
        "id": "Ruy8TsG3UtUR",
        "colab": {
          "base_uri": "https://localhost:8080/"
        },
        "outputId": "ae891450-e3fa-4ba5-8b00-13b0e0f05c6e"
      }
    },
    {
      "cell_type": "code",
      "execution_count": 38,
      "source": [
        "#-------------------------------------------------------------------------------\n",
        "# Testing\n",
        "\n",
        "#STATES = [A,B,C,D,E,F]\n",
        "#nO_State=[0,1,2,3,4,5]\n",
        "\n",
        "# Goal state = 5\n",
        "# Best sequence path starting from 2 -> 2, 3, 1, 5\n",
        "\n",
        "for initial_state in range(1, 6):\n",
        "\n",
        "    current_state = initial_state\n",
        "    steps = [current_state]\n",
        "\n",
        "    while current_state != 5:\n",
        "\n",
        "        next_step_index = np.where(Q[current_state,] == np.max(Q[current_state,]))[0]\n",
        "        # print(next_step_index)\n",
        "        \n",
        "        if next_step_index.shape[0] > 1:\n",
        "            next_step_index = int(np.random.choice(next_step_index, size = 1))\n",
        "        else:\n",
        "            next_step_index = int(next_step_index)\n",
        "        \n",
        "        steps.append(next_step_index)\n",
        "        current_state = next_step_index\n",
        "    # Print selected sequence of steps\n",
        "    print(\"Selected path:\", end= ' ')\n",
        "    print(steps)"
      ],
      "outputs": [
        {
          "output_type": "stream",
          "name": "stdout",
          "text": [
            "Selected path: [1, 5]\n",
            "Selected path: [2, 3]\n",
            "Selected path: [2, 3, 4]\n",
            "Selected path: [2, 3, 4, 5]\n",
            "Selected path: [3, 4]\n",
            "Selected path: [3, 4, 5]\n",
            "Selected path: [4, 5]\n"
          ]
        }
      ],
      "metadata": {
        "id": "uiAKQqdUUtUR"
      }
    },
    {
      "cell_type": "code",
      "execution_count": 39,
      "source": [
        "# # Print selected sequence of steps\n",
        "# print(\"Selected path:\", end= ' ')\n",
        "# print(steps)\n"
      ],
      "outputs": [],
      "metadata": {
        "id": "owSTVuvUUtUT",
        "colab": {
          "base_uri": "https://localhost:8080/"
        },
        "outputId": "ab245f13-afea-47a3-c23c-3cbccb4c330d"
      }
    },
    {
      "cell_type": "markdown",
      "source": [
        "![image.png](RL_prob.png)\n"
      ],
      "metadata": {
        "id": "F5HFBudtUtUT"
      }
    },
    {
      "cell_type": "code",
      "execution_count": null,
      "source": [],
      "outputs": [],
      "metadata": {
        "id": "OUGCoSUNUtUT"
      }
    }
  ]
}