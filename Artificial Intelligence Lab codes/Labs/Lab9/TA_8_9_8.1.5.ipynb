{
 "cells": [
  {
   "cell_type": "code",
   "execution_count": 2,
   "source": [
    "import csv\n",
    "import pandas as pd\n",
    "import math\n",
    "data = pd.read_csv(\"Tut_8_student.csv\", names=['Party', 'Smart',\n",
    "                 'Creative', 'HW', 'Music','Project','Success','Happy'],header=None)\n",
    "# P(Party)\n",
    "rows = data.shape[0]\n",
    "total_party = data['Party'].sum()\n",
    "proability_party = total_party/rows\n",
    "\n",
    "print(proability_party)"
   ],
   "outputs": [
    {
     "output_type": "stream",
     "name": "stdout",
     "text": [
      "0.6022\n"
     ]
    }
   ],
   "metadata": {}
  },
  {
   "cell_type": "code",
   "execution_count": 9,
   "source": [
    "# a)\n",
    "prob_happy = 0\n",
    "# 3 dependent variables so 8(000, 001, 010, 011, 100, 101, 110, 111) conditional probabilities are possible\n",
    "for success in range(0, 2):\n",
    "    for music in range(0, 2):\n",
    "        for party in range(0, 2):\n",
    "            # Total\n",
    "            tot = 0\n",
    "            # Required intersection count when happy is true\n",
    "            req = 0\n",
    "            for index in data.index:\n",
    "                tot += data[\"Success\"][index] == success and data[\"Music\"][index] == music and data[\"Party\"][index] == party\n",
    "                req += data[\"Success\"][index] == success and data[\"Music\"][index] == music and data[\"Party\"][index] == party and data[ \"Happy\"][index]\n",
    "            \n",
    "            prob_happy += (req+1)/(tot+2) * (tot+1)/(rows+2)\n",
    "print(\"Probability of happy: \", prob_happy)\n",
    "print(\"Thus, P(Ha=Т): \", prob_happy)"
   ],
   "outputs": [
    {
     "output_type": "stream",
     "name": "stdout",
     "text": [
      "Probability of happy:  0.5152817431241447\n",
      "Thus, P(Ha=Т):  0.5152817431241447\n"
     ]
    }
   ],
   "metadata": {}
  },
  {
   "cell_type": "code",
   "execution_count": 13,
   "source": [
    "# b)\n",
    "prob_happy, tot, req = 0, 0, 0\n",
    "# Iterate on the given information\n",
    "for index in data.index:\n",
    "    # Total\n",
    "    tot += data[\"Party\"][index] and data[\"Smart\"][index] and not data [\"Creative\"][index]\n",
    "    # Required intersection count when happy is true\n",
    "    req += data[\"Party\"][index] and data[\"Smart\"][index] and not data[\"Creative\"][index] and data [ 'Happy'][index]\n",
    "# (numerator+1)/(denominator+2) is done as per the specifications of laplace smoothing\n",
    "# which is a technique to avoid probabilities being 0\n",
    "prob_happy = (req+1)/(tot+2)\n",
    "\n",
    "print(\"Probability of happy: \", prob_happy)\n",
    "print(\"Thus, P(Happy=T|Party=T, Smart=T, Creative=F): \", prob_happy)\n"
   ],
   "outputs": [
    {
     "output_type": "stream",
     "name": "stdout",
     "text": [
      "Probability of happy:  0.703875968992248\n",
      "Thus, P(Happy=T|Party=T, Smart=T, Creative=F):  0.703875968992248\n"
     ]
    }
   ],
   "metadata": {}
  },
  {
   "cell_type": "code",
   "execution_count": 17,
   "source": [
    "# c)\n",
    "prob_happy, tot, req = 0, 0, 0\n",
    "# Iterate on the given information\n",
    "for index in data.index:\n",
    "    # Total\n",
    "    tot += data[\"Smart\"][index] and data[\"Creative\"][index]\n",
    "    # Required intersection count when happy is true\n",
    "    req += data[\"Smart\"][index] and data[\"Creative\"][index] and data ['Happy'][index]\n",
    "\n",
    "# (numerator+1)/(denominator+2) is done as per the specifications of laplace smoothing\n",
    "# which is a technique to avoid probabilities being 0\n",
    "prob_happy = (req+1)/(tot+2)\n",
    "\n",
    "print(\"Probability of happy: \",  prob_happy)\n",
    "print(\"Thus, P(Happy=T|Smart=T, Creative=T): \", prob_happy)"
   ],
   "outputs": [
    {
     "output_type": "stream",
     "name": "stdout",
     "text": [
      "Probability of happy:  0.5758438389589264\n",
      "Thus, P(Happy=T|Smart=T, Creative=T):  0.5758438389589264\n"
     ]
    }
   ],
   "metadata": {}
  },
  {
   "cell_type": "code",
   "execution_count": 20,
   "source": [
    "# d)\n",
    "prob_happy, tot, req = 0, 0, 0\n",
    "# Iterate on the given information\n",
    "for index in data.index:\n",
    "    # Total\n",
    "    tot += data[\"HW\"][index] and data[\"Project\"][index] and not data[\"Party\"][index]\n",
    "    # Required intersection count when happy is true\n",
    "    req += data[\"HW\"][index] and data[\"Project\"][index] and not data[\"Party\"][index] and data['Happy'][index]\n",
    "\n",
    "# (numerator+1)/(denominator+2) is done as per the specifications of laplace smoothing\n",
    "# which is a technique to avoid probabilities being 0\n",
    "prob_happy = (req+1)/(tot+2)\n",
    "\n",
    "print(\"Probability of happy: \", prob_happy)\n",
    "print(\"Thus, P(Hap=T|Homework=T, Project=T, Party=F): \", prob_happy)"
   ],
   "outputs": [
    {
     "output_type": "stream",
     "name": "stdout",
     "text": [
      "Probability of happy:  0.3157894736842105\n",
      "Thus, P(Hap=T|Homework=T, Project=T, Party=F):  0.3157894736842105\n"
     ]
    }
   ],
   "metadata": {}
  },
  {
   "cell_type": "code",
   "execution_count": 23,
   "source": [
    "# e)\n",
    "prob_happy, tot, req = 0, 0, 0\n",
    "# Iterate on the given information\n",
    "for index in data.index:\n",
    "    # Total\n",
    "    tot += data[ \"Music\"][index]\n",
    "    # Required intersection count when happy is true\n",
    "    req += data[\"Music\"][index] and data [ 'Happy'][index]\n",
    "\n",
    "# (numerator+1)/(denominator+2) is done as per the specifications of laplace smoothing\n",
    "# which is a technique to avoid probabilities being o\n",
    "\n",
    "prob_happy = (req+1)/(tot+2)\n",
    "print(\"Probability of happy: \", prob_happy)\n",
    "print(\"Thus, P(Happy=T|Music=T): \", prob_happy)"
   ],
   "outputs": [
    {
     "output_type": "stream",
     "name": "stdout",
     "text": [
      "Probability of happy:  0.5590879897238279\n",
      "Thus, P(Happy=T|Music=T):  0.5590879897238279\n"
     ]
    }
   ],
   "metadata": {}
  },
  {
   "cell_type": "code",
   "execution_count": 24,
   "source": [
    "# f)\n",
    "prob_happy, tot, req = 0, 0, 0\n",
    "# Iterate on the given information\n",
    "for index in data.index:\n",
    "    # Total\n",
    "    tot += data[\"Smart\"][index]\n",
    "    # Required itersection count when happy is true\n",
    "    req += data[\"Smart\"][index] and data [ 'Party'][index]\n",
    "\n",
    "# (numerator+1)/(denominator+2) is done as per the specifications of laplace smoothing\n",
    "# which is a technique to avoid probabilities being\n",
    "prob_happy = (req+1)/(tot+2)\n",
    "print(\"Probability of happy: \", prob_happy)\n",
    "print (\"Thus, P(Party=T|Smart=T): \", prob_happy)"
   ],
   "outputs": [
    {
     "output_type": "stream",
     "name": "stdout",
     "text": [
      "Probability of happy:  0.608621667612025\n",
      "Thus, P(Party=T|Smart=T):  0.608621667612025\n"
     ]
    }
   ],
   "metadata": {}
  },
  {
   "cell_type": "code",
   "execution_count": 26,
   "source": [
    "# g)\n",
    "prob_happy, tot, req = 0, 0, 0\n",
    "# Iterate on the given information\n",
    "for index in data.index:\n",
    "    # Total\n",
    "    tot += data [\"Smart\"][index] and data [ 'Happy' ][index]\n",
    "    # Required intersection count when happy is true\n",
    "    req += data[\"Smart\"][index] and data[ 'Happy'][index] and data[\"Party\"][index]\n",
    "\n",
    "# (numerator+1)/(denominator+2) is done as per the specifications of laplace smoothing\n",
    "# which is a technique to avoid probabilities being 0\n",
    "\n",
    "prob_happy = (req+1)/(tot+2)\n",
    "print(\"Probability of happy: \", prob_happy)\n",
    "print(\"Thus, P(Party=T|Smart=T, Happy=T): \", prob_happy)"
   ],
   "outputs": [
    {
     "output_type": "error",
     "ename": "SyntaxError",
     "evalue": "EOL while scanning string literal (<ipython-input-26-32989d08c812>, line 6)",
     "traceback": [
      "\u001b[0;36m  File \u001b[0;32m\"<ipython-input-26-32989d08c812>\"\u001b[0;36m, line \u001b[0;32m6\u001b[0m\n\u001b[0;31m    tot += data [\"Smart ][index] and data [ 'Happy' ][index]\u001b[0m\n\u001b[0m                                                            ^\u001b[0m\n\u001b[0;31mSyntaxError\u001b[0m\u001b[0;31m:\u001b[0m EOL while scanning string literal\n"
     ]
    }
   ],
   "metadata": {}
  },
  {
   "cell_type": "code",
   "execution_count": null,
   "source": [],
   "outputs": [],
   "metadata": {}
  }
 ],
 "metadata": {
  "orig_nbformat": 4,
  "language_info": {
   "name": "python",
   "version": "3.9.6",
   "mimetype": "text/x-python",
   "codemirror_mode": {
    "name": "ipython",
    "version": 3
   },
   "pygments_lexer": "ipython3",
   "nbconvert_exporter": "python",
   "file_extension": ".py"
  },
  "kernelspec": {
   "name": "python3",
   "display_name": "Python 3.9.6 64-bit"
  },
  "interpreter": {
   "hash": "aee8b7b246df8f9039afb4144a1f6fd8d2ca17a180786b69acc140d282b71a49"
  }
 },
 "nbformat": 4,
 "nbformat_minor": 2
}