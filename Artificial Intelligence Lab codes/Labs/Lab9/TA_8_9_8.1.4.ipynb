{
 "cells": [
  {
   "cell_type": "code",
   "execution_count": 2,
   "source": [
    "import csv\n",
    "import pandas as pd\n",
    "import math"
   ],
   "outputs": [],
   "metadata": {}
  },
  {
   "cell_type": "code",
   "execution_count": 4,
   "source": [
    "data = pd.read_csv(\"Tut_8_student.csv\", names=['Party', 'Smart',\n",
    "                 'Creative', 'HW', 'Music','Project','Success','Happy'],header=None)"
   ],
   "outputs": [],
   "metadata": {}
  },
  {
   "cell_type": "code",
   "execution_count": 6,
   "source": [
    "# P(Party)\n",
    "rows = data.shape[0]\n",
    "total_party = data['Party'].sum()\n",
    "proability_party = total_party/rows\n",
    "\n",
    "print(proability_party)"
   ],
   "outputs": [
    {
     "output_type": "stream",
     "name": "stdout",
     "text": [
      "0.6022\n"
     ]
    }
   ],
   "metadata": {}
  },
  {
   "cell_type": "code",
   "execution_count": 8,
   "source": [
    "# P(Smart)\n",
    "\n",
    "total_smart = data['Smart'].sum()\n",
    "proability_smart = total_smart/rows\n",
    "print(proability_smart)"
   ],
   "outputs": [
    {
     "output_type": "stream",
     "name": "stdout",
     "text": [
      "0.7048\n"
     ]
    }
   ],
   "metadata": {}
  },
  {
   "cell_type": "code",
   "execution_count": 9,
   "source": [
    "# p(Creative)\n",
    "total_creative = data['Creative'].sum()\n",
    "probability_creative = total_creative/rows\n",
    "print(probability_creative)"
   ],
   "outputs": [
    {
     "output_type": "stream",
     "name": "stdout",
     "text": [
      "0.6994\n"
     ]
    }
   ],
   "metadata": {}
  },
  {
   "cell_type": "code",
   "execution_count": 13,
   "source": [
    "# P(hw | smart, party)\n",
    "\n",
    "for smart in [0, 1]:\n",
    "    for party in [0, 1]:\n",
    "        tot = 0\n",
    "\n",
    "print (\"Party Smart P(HW=T|party, smart)\")\n",
    "# 2 dependent variables so 4(00, 01, 10, 11) conditional probabilities are possible\n",
    "for party in range(0, 2):\n",
    "    for smart in range(0, 2):\n",
    "        # Total\n",
    "        tot = 0\n",
    "        # Required intersection count when homework is true\n",
    "        req = 0\n",
    "        for index in data.index:\n",
    "            tot += data[\"Party\"][index] == party and data[\"Smart\"][index] == smart\n",
    "            req += data[\"Party\"][index] == party and data[\"Smart\"][index] == smart and data[\"HW\"][index]\n",
    "            # (req+1)/(tot+2) is done as per the specifications of laplace smoothing\n",
    "        # which is a technique to avoid probabilities being 0\n",
    "        print(\" \", party, \"   \", smart, \" \", (req+1)/(tot+2))\n"
   ],
   "outputs": [
    {
     "output_type": "stream",
     "name": "stdout",
     "text": [
      "Party Smart P(HW=T|party, smart)\n",
      "  0     0   0.3055555555555556\n",
      "  0     1   0.8979000724112962\n",
      "  1     0   0.0944700460829493\n",
      "  1     1   0.8025151374010246\n"
     ]
    }
   ],
   "metadata": {}
  },
  {
   "cell_type": "code",
   "execution_count": 16,
   "source": [
    "# P(Music=T|creative, smart)\n",
    "print (\"Creative Smart P(Music=T|creative, smart)\")\n",
    "# 2 dependent variables so 4(00, 01, 10, 11) conditional probabilities are possible\n",
    "for creative in range(0, 2):\n",
    "    for smart in range(0, 2):\n",
    "        # Total\n",
    "        tot = 0\n",
    "        # Required intersection count when music is true\n",
    "        req = 0\n",
    "        for index in data.index:\n",
    "            tot += data[\"Smart\"][index] == smart and data[\"Creative\"][index] == creative\n",
    "            req += data[\"Smart\"][index] == smart and data[\"Creative\"][index] == creative and data[ \"Music\"][index]\n",
    "        # (req+1)/(tot+2) is done as per the specifications of laplace smoothing\n",
    "        # which is a technique to avoid probabilities being 0\n",
    "    print(\"  \", creative,\"     \", smart, \" \", (req+1)/(tot+2))"
   ],
   "outputs": [
    {
     "output_type": "stream",
     "name": "stdout",
     "text": [
      "Creative Smart P(Music=T|creative, smart)\n",
      "   0       1   0.41347053320860616\n",
      "   1       1   0.6856445709638064\n"
     ]
    }
   ],
   "metadata": {}
  },
  {
   "cell_type": "code",
   "execution_count": 20,
   "source": [
    "# P(Project=T|creative, smart)\n",
    "print (\"Creative Smart P(Project=T|creative, smart)\")\n",
    "# 2 dependent variables so 4(00, 01, 10, 11) conditional probabilities are possible\n",
    "for creative in range(0, 2):\n",
    "    for smart in range(0, 2):\n",
    "        # Total\n",
    "        tot = 0\n",
    "        # Required intersection count when project is true\n",
    "        req = 0\n",
    "        for index in data.index:\n",
    "            tot += data[\"Creative\"][index] == creative and data[ \"Smart\"][index] == smart\n",
    "            req += data[\"Creative\"][index] == creative and data[\"Smart\"][index] == smart and data[\"Project\"][index]\n",
    "        # (req+1)/(tot+2) is done as per the specifications of laplace smoothing\n",
    "        # which is a technique to avoid probabilities being 0\n",
    "    print(\"  \", creative,\"     \", smart, \" \", (req+1)/(tot+2))"
   ],
   "outputs": [
    {
     "output_type": "stream",
     "name": "stdout",
     "text": [
      "Creative Smart P(Project=T|creative, smart)\n",
      "   0       1   0.7932647333956969\n",
      "   1       1   0.9048393655957706\n"
     ]
    }
   ],
   "metadata": {}
  },
  {
   "cell_type": "code",
   "execution_count": 22,
   "source": [
    "# P(Happy | success, music, party)\n",
    "print (\"Success Music Party P(Happy | success, music, party)\")\n",
    "# 3 dependent variables so 8(000, 001, 010, 011, 100, 101, 110, 111) conditional probabilities are possible\n",
    "for success in range(0, 2): \n",
    "    for music in range(0, 2): \n",
    "        for party in range(0, 2):\n",
    "            # Total\n",
    "            tot = 0\n",
    "            # Required intersection count when happy is true\n",
    "            req = 0\n",
    "            for index in data.index:\n",
    "                tot += data[\"Success\"][index] == success and data[\"Music\"][index] == music and data[\"Party\"][index] == party\n",
    "                req += data[\"Success\"][index] == success and data[\"Music\"][index] == music and data[ \"Party\"][index] == party and data [\"Happy\"][index]\n",
    "            # (req+1)/(tot+2) is done as per the specifications of laplace smoothing\n",
    "            # which is a technique to avoid probabilities being 0\n",
    "            print(\" \", success,\"   \", music, \"   \", party, \"   \", (req+1) /(tot+2))"
   ],
   "outputs": [
    {
     "output_type": "stream",
     "name": "stdout",
     "text": [
      "Success Music Party P(Happy | success, music, party)\n",
      "  0     0     0     0.09646302250803858\n",
      "  0     0     1     0.4204322200392927\n",
      "  0     1     0     0.20618556701030927\n",
      "  0     1     1     0.4923413566739606\n",
      "  1     0     0     0.3076923076923077\n",
      "  1     0     1     0.7208201892744479\n",
      "  1     1     0     0.3583662714097497\n",
      "  1     1     1     0.9584199584199584\n"
     ]
    }
   ],
   "metadata": {}
  },
  {
   "cell_type": "code",
   "execution_count": 28,
   "source": [
    "# P(Success=|project, homework)\n",
    "print (\"Project Homework P(Success=|project, homework)\")\n",
    "# Since 2 dependent variables so 4(00, 01, 10, 11) conditional probabilities are possible\n",
    "for project in range(0, 2): \n",
    "    for homework in range(0, 2):\n",
    "        # Total\n",
    "        tot = 0\n",
    "        # Required intersection count when success is true\n",
    "        req = 0\n",
    "        for index in data.index:\n",
    "            tot += data[\"Project\"][index] == project and data[\"HW\"][index] == homework\n",
    "            req += data[\"Project\"][index] == project and data[\"HW\"][index] == homework and data[ \"Success\"][index]\n",
    "        # (req+1)/(tot+2) is done as per the specifications of laplace smoothing\n",
    "        # which is a technique to avoid probabilities being 0\n",
    "        print(\" \", project, \"    \", homework, \"      \", (req+1)/(tot+2))"
   ],
   "outputs": [
    {
     "output_type": "stream",
     "name": "stdout",
     "text": [
      "Project Homework P(Success=|project, homework)\n",
      "  0      0        0.05066079295154185\n",
      "  0      1        0.30714285714285716\n",
      "  1      0        0.2073732718894009\n",
      "  1      1        0.8963323353293413\n"
     ]
    }
   ],
   "metadata": {}
  },
  {
   "cell_type": "code",
   "execution_count": null,
   "source": [],
   "outputs": [],
   "metadata": {}
  }
 ],
 "metadata": {
  "orig_nbformat": 4,
  "language_info": {
   "name": "python",
   "version": "3.9.6",
   "mimetype": "text/x-python",
   "codemirror_mode": {
    "name": "ipython",
    "version": 3
   },
   "pygments_lexer": "ipython3",
   "nbconvert_exporter": "python",
   "file_extension": ".py"
  },
  "kernelspec": {
   "name": "python3",
   "display_name": "Python 3.9.6 64-bit"
  },
  "interpreter": {
   "hash": "aee8b7b246df8f9039afb4144a1f6fd8d2ca17a180786b69acc140d282b71a49"
  }
 },
 "nbformat": 4,
 "nbformat_minor": 2
}